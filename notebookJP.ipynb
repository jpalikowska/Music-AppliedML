{
 "cells": [
  {
   "cell_type": "markdown",
   "id": "0b303c6f",
   "metadata": {},
   "source": [
    "# 🎵 Music Genre Classification\n",
    "\n",
    "This notebook presents a machine learning pipeline for classifying music genres using Support Vector Machines (SVM) with One-vs-Rest and One-vs-One strategies.\n",
    "\n",
    "We use the GTZAN dataset and audio features (MFCC). The model used is RBF Binary Kernel SVM with both multiclass classification strategies One-vs-Rest and One-vs-One.\n"
   ]
  },
  {
   "cell_type": "code",
   "execution_count": 45,
   "id": "5079b06e",
   "metadata": {},
   "outputs": [
    {
     "name": "stdout",
     "output_type": "stream",
     "text": [
      "The autoreload extension is already loaded. To reload it, use:\n",
      "  %reload_ext autoreload\n"
     ]
    }
   ],
   "source": [
    "%load_ext autoreload\n",
    "%autoreload 2\n",
    "\n",
    "import numpy as np\n",
    "import matplotlib.pyplot as plt\n",
    "import sys\n",
    "import os\n",
    "\n",
    "# Add the repo root (two levels up from this notebook) to sys.path\n",
    "sys.path.insert(0, os.path.abspath(\"../../\"))"
   ]
  },
  {
   "cell_type": "markdown",
   "id": "517ae3e4",
   "metadata": {},
   "source": [
    "### Loading\n",
    " \n",
    "The GTZAN dataset has data in 2 formats:\n",
    "1. 30s fragments of each song\n",
    "2. Each fragment from 1. is split into 10 segments with 3s length\n",
    "\n",
    "We will work with the 30s file."
   ]
  },
  {
   "cell_type": "code",
   "execution_count": 46,
   "id": "b4b9ab42",
   "metadata": {},
   "outputs": [
    {
     "name": "stdout",
     "output_type": "stream",
     "text": [
      "Loading from `features_30_sec.csv`...\n"
     ]
    }
   ],
   "source": [
    "import courselib.utils.loaders as loaders\n",
    "\n",
    "df = loaders.load_music_30_sec()\n",
    "#df = loaders.load_music_3_sec()"
   ]
  },
  {
   "cell_type": "markdown",
   "id": "ae87f5c7",
   "metadata": {},
   "source": [
    "### Train-Test Split\n",
    "\n",
    "We will train the models on all MFCC features and do the train-test split proportion 80/20."
   ]
  },
  {
   "cell_type": "code",
   "execution_count": 47,
   "id": "f912cd65",
   "metadata": {},
   "outputs": [
    {
     "name": "stdout",
     "output_type": "stream",
     "text": [
      "Training data split as follows:\n",
      "  Training data samples: 800\n",
      "      Test data samples: 200\n"
     ]
    }
   ],
   "source": [
    "from courselib.utils.splits import train_test_split\n",
    "\n",
    "# Extract only MFCC columns from df\n",
    "mfcc_columns = [col for col in df.columns if col.startswith('mfcc')]\n",
    "features = mfcc_columns + ['label']\n",
    "\n",
    "# Do train test split\n",
    "X, Y, X_train, Y_train, X_test, Y_test = train_test_split(\n",
    "    df[features],\n",
    "    training_data_fraction=0.8,\n",
    "    class_column_name='label',\n",
    "    shuffle=True,\n",
    "    return_numpy=True\n",
    ")\n",
    "\n",
    "print('Training data split as follows:')\n",
    "print(f'  Training data samples: {len(X_train)}')\n",
    "print(f'      Test data samples: {len(X_test)}')"
   ]
  },
  {
   "cell_type": "markdown",
   "id": "fadf5ba2",
   "metadata": {},
   "source": [
    "## Preprocessing\n",
    "\n",
    "We standardize our features using z-score normalization. This step rescales all features to have zero mean and unit variance.\n",
    "\n",
    "We also compute a reasonable value for the kernel width parameter $\\sigma$ using the *median heuristic*:\n",
    "$$\n",
    "\\sigma = \\sqrt{ \\frac{ \\text{median}( \\| x_i - x_j \\|^2 ) }{2} }\n",
    "$$\n",
    "\n",
    "This tunning was done because of low accuracy on not preprocessed data."
   ]
  },
  {
   "cell_type": "code",
   "execution_count": null,
   "id": "e510c413",
   "metadata": {},
   "outputs": [],
   "source": [
    "from sklearn.preprocessing import StandardScaler\n",
    "\n",
    "# Standardize features (z-score)\n",
    "scaler = StandardScaler().fit(X_train)\n",
    "X_train_z = scaler.transform(X_train)\n",
    "X_test_z  = scaler.transform(X_test)\n",
    "\n",
    "# Compute kernel width using median heuristic (for RBF kernel)\n",
    "subset = X_train_z[np.random.choice(len(X_train_z), 500, replace=False)]\n",
    "d2 = np.sum((subset[:, None, :] - subset[None, :, :])**2, axis=-1)\n",
    "sigma = np.sqrt(0.5 * np.median(d2[d2 > 0]))  # avoid zero distances\n",
    "\n",
    "X_train = X_train_z\n",
    "X_test = X_test_z"
   ]
  },
  {
   "cell_type": "markdown",
   "id": "38ee16d6",
   "metadata": {},
   "source": [
    "### OvR model\n",
    "\n",
    "First we train the OvR classification strategy with the RBF Binary Kernel SVM model.\n",
    "\n",
    "Then evaluate the performance ovr the test data. Both single model as well as overall performance statistics are calculated."
   ]
  },
  {
   "cell_type": "code",
   "execution_count": 50,
   "id": "138a0c00",
   "metadata": {},
   "outputs": [],
   "source": [
    "from courselib.models.multiclass_svm import KernelMulticlassOvR\n",
    "\n",
    "svmOvR = KernelMulticlassOvR(kernel='rbf', sigma=sigma)\n",
    "svmOvR.fit(X_train, Y_train)"
   ]
  },
  {
   "cell_type": "code",
   "execution_count": 51,
   "id": "d57ff5d0",
   "metadata": {},
   "outputs": [
    {
     "name": "stdout",
     "output_type": "stream",
     "text": [
      "📊 Accuracy of each binary model (One-vs-Rest):\n",
      "  - Class 'blues': 93.0000 (Support vectors: 223)\n",
      "  - Class 'classical': 94.0000 (Support vectors: 122)\n",
      "  - Class 'country': 92.5000 (Support vectors: 220)\n",
      "  - Class 'disco': 92.0000 (Support vectors: 225)\n",
      "  - Class 'hiphop': 94.0000 (Support vectors: 215)\n",
      "  - Class 'jazz': 91.5000 (Support vectors: 188)\n",
      "  - Class 'metal': 95.0000 (Support vectors: 171)\n",
      "  - Class 'pop': 94.5000 (Support vectors: 155)\n",
      "  - Class 'reggae': 91.5000 (Support vectors: 210)\n",
      "  - Class 'rock': 91.0000 (Support vectors: 242)\n",
      "🎯 Overall accuracy (OvR): 70.0000 %\n"
     ]
    }
   ],
   "source": [
    "svmOvR.evaluate_models(X_test, Y_test)\n",
    "svmOvR.evaluate_accuracy(X_test, Y_test)"
   ]
  },
  {
   "cell_type": "markdown",
   "id": "eddfdf08",
   "metadata": {},
   "source": [
    "### OvO model\n",
    "\n",
    "First we train the OvO classification strategy with the RBF Binary Kernel SVM model.\n",
    "\n",
    "Then evaluate the performance ovr the test data. Both single model as well as overall performance statistics are calculated."
   ]
  },
  {
   "cell_type": "code",
   "execution_count": 52,
   "id": "d10a1f3f",
   "metadata": {},
   "outputs": [],
   "source": [
    "from courselib.models.multiclass_svm import KernelMulticlassOvO\n",
    "\n",
    "svmOvO = KernelMulticlassOvO(kernel='rbf', sigma=sigma)\n",
    "svmOvO.fit(X_train, Y_train)"
   ]
  },
  {
   "cell_type": "code",
   "execution_count": 53,
   "id": "00fcff94",
   "metadata": {},
   "outputs": [
    {
     "name": "stdout",
     "output_type": "stream",
     "text": [
      "📊 Accuracy of each OvO binary classifier:\n",
      "  - Classifier 'blues' vs 'classical': 100.0000 (Support vectors: 60)\n",
      "  - Classifier 'blues' vs 'country': 89.1892 (Support vectors: 113)\n",
      "  - Classifier 'blues' vs 'disco': 91.1765 (Support vectors: 114)\n",
      "  - Classifier 'blues' vs 'hiphop': 96.7742 (Support vectors: 98)\n",
      "  - Classifier 'blues' vs 'jazz': 95.3488 (Support vectors: 87)\n",
      "  - Classifier 'blues' vs 'metal': 89.7436 (Support vectors: 89)\n",
      "  - Classifier 'blues' vs 'pop': 97.6744 (Support vectors: 57)\n",
      "  - Classifier 'blues' vs 'reggae': 87.5000 (Support vectors: 94)\n",
      "  - Classifier 'blues' vs 'rock': 86.1111 (Support vectors: 127)\n",
      "  - Classifier 'classical' vs 'country': 100.0000 (Support vectors: 67)\n",
      "  - Classifier 'classical' vs 'disco': 94.8718 (Support vectors: 53)\n",
      "  - Classifier 'classical' vs 'hiphop': 100.0000 (Support vectors: 45)\n",
      "  - Classifier 'classical' vs 'jazz': 87.5000 (Support vectors: 89)\n",
      "  - Classifier 'classical' vs 'metal': 100.0000 (Support vectors: 37)\n",
      "  - Classifier 'classical' vs 'pop': 97.9167 (Support vectors: 59)\n",
      "  - Classifier 'classical' vs 'reggae': 100.0000 (Support vectors: 57)\n",
      "  - Classifier 'classical' vs 'rock': 92.6829 (Support vectors: 62)\n",
      "  - Classifier 'country' vs 'disco': 88.5714 (Support vectors: 115)\n",
      "  - Classifier 'country' vs 'hiphop': 96.8750 (Support vectors: 96)\n",
      "  - Classifier 'country' vs 'jazz': 95.4545 (Support vectors: 88)\n",
      "  - Classifier 'country' vs 'metal': 95.0000 (Support vectors: 64)\n",
      "  - Classifier 'country' vs 'pop': 93.1818 (Support vectors: 75)\n",
      "  - Classifier 'country' vs 'reggae': 92.6829 (Support vectors: 99)\n",
      "  - Classifier 'country' vs 'rock': 81.0811 (Support vectors: 114)\n",
      "  - Classifier 'disco' vs 'hiphop': 86.2069 (Support vectors: 115)\n",
      "  - Classifier 'disco' vs 'jazz': 95.1220 (Support vectors: 84)\n",
      "  - Classifier 'disco' vs 'metal': 100.0000 (Support vectors: 85)\n",
      "  - Classifier 'disco' vs 'pop': 85.3659 (Support vectors: 83)\n",
      "  - Classifier 'disco' vs 'reggae': 86.8421 (Support vectors: 89)\n",
      "  - Classifier 'disco' vs 'rock': 67.6471 (Support vectors: 137)\n",
      "  - Classifier 'hiphop' vs 'jazz': 100.0000 (Support vectors: 61)\n",
      "  - Classifier 'hiphop' vs 'metal': 97.0588 (Support vectors: 69)\n",
      "  - Classifier 'hiphop' vs 'pop': 94.7368 (Support vectors: 78)\n",
      "  - Classifier 'hiphop' vs 'reggae': 71.4286 (Support vectors: 135)\n",
      "  - Classifier 'hiphop' vs 'rock': 90.3226 (Support vectors: 87)\n",
      "  - Classifier 'jazz' vs 'metal': 100.0000 (Support vectors: 51)\n",
      "  - Classifier 'jazz' vs 'pop': 98.0000 (Support vectors: 66)\n",
      "  - Classifier 'jazz' vs 'reggae': 97.8723 (Support vectors: 71)\n",
      "  - Classifier 'jazz' vs 'rock': 93.0233 (Support vectors: 96)\n",
      "  - Classifier 'metal' vs 'pop': 100.0000 (Support vectors: 38)\n",
      "  - Classifier 'metal' vs 'reggae': 97.6744 (Support vectors: 45)\n",
      "  - Classifier 'metal' vs 'rock': 87.1795 (Support vectors: 96)\n",
      "  - Classifier 'pop' vs 'reggae': 95.7447 (Support vectors: 82)\n",
      "  - Classifier 'pop' vs 'rock': 93.0233 (Support vectors: 62)\n",
      "  - Classifier 'reggae' vs 'rock': 85.0000 (Support vectors: 87)\n",
      "🎯 Overall accuracy (OvO): 69.0000 %\n"
     ]
    }
   ],
   "source": [
    "svmOvO.evaluate_models(X_test, Y_test)\n",
    "svmOvO.evaluate_accuracy(X_test, Y_test)"
   ]
  },
  {
   "cell_type": "markdown",
   "id": "ff0cce85",
   "metadata": {},
   "source": []
  }
 ],
 "metadata": {
  "kernelspec": {
   "display_name": "applied_ml",
   "language": "python",
   "name": "python3"
  },
  "language_info": {
   "codemirror_mode": {
    "name": "ipython",
    "version": 3
   },
   "file_extension": ".py",
   "mimetype": "text/x-python",
   "name": "python",
   "nbconvert_exporter": "python",
   "pygments_lexer": "ipython3",
   "version": "3.10.16"
  }
 },
 "nbformat": 4,
 "nbformat_minor": 5
}
