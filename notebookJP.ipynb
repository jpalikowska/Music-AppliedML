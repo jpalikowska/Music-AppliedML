{
 "cells": [
  {
   "cell_type": "markdown",
   "id": "0b303c6f",
   "metadata": {},
   "source": [
    "# 🎵 Music Genre Classification\n",
    "\n",
    "This notebook presents a machine learning pipeline for classifying music genres using Support Vector Machines (SVM) with One-vs-Rest and One-vs-One strategies.\n",
    "\n",
    "We use the GTZAN dataset and audio features (MFCC). The model used is RBF Binary Kernel SVM with both multiclass classification strategies One-vs-Rest and One-vs-One.\n"
   ]
  },
  {
   "cell_type": "code",
   "execution_count": 1,
   "id": "5079b06e",
   "metadata": {},
   "outputs": [
    {
     "ename": "ModuleNotFoundError",
     "evalue": "No module named 'pandas'",
     "output_type": "error",
     "traceback": [
      "\u001b[31m---------------------------------------------------------------------------\u001b[39m",
      "\u001b[31mModuleNotFoundError\u001b[39m                       Traceback (most recent call last)",
      "\u001b[36mCell\u001b[39m\u001b[36m \u001b[39m\u001b[32mIn[1]\u001b[39m\u001b[32m, line 10\u001b[39m\n\u001b[32m      7\u001b[39m \u001b[38;5;28;01mimport\u001b[39;00m\u001b[38;5;250m \u001b[39m\u001b[34;01msys\u001b[39;00m\n\u001b[32m      8\u001b[39m \u001b[38;5;28;01mimport\u001b[39;00m\u001b[38;5;250m \u001b[39m\u001b[34;01mos\u001b[39;00m\n\u001b[32m---> \u001b[39m\u001b[32m10\u001b[39m \u001b[38;5;28;01mimport\u001b[39;00m\u001b[38;5;250m \u001b[39m\u001b[34;01mcourselib\u001b[39;00m\u001b[34;01m.\u001b[39;00m\u001b[34;01mutils\u001b[39;00m\u001b[34;01m.\u001b[39;00m\u001b[34;01mloaders\u001b[39;00m\u001b[38;5;250m \u001b[39m\u001b[38;5;28;01mas\u001b[39;00m\u001b[38;5;250m \u001b[39m\u001b[34;01mloaders\u001b[39;00m\n\u001b[32m     11\u001b[39m \u001b[38;5;28;01mfrom\u001b[39;00m\u001b[38;5;250m \u001b[39m\u001b[34;01mcourselib\u001b[39;00m\u001b[34;01m.\u001b[39;00m\u001b[34;01mutils\u001b[39;00m\u001b[34;01m.\u001b[39;00m\u001b[34;01msplits\u001b[39;00m\u001b[38;5;250m \u001b[39m\u001b[38;5;28;01mimport\u001b[39;00m train_test_split\n\u001b[32m     12\u001b[39m \u001b[38;5;28;01mfrom\u001b[39;00m\u001b[38;5;250m \u001b[39m\u001b[34;01msklearn\u001b[39;00m\u001b[34;01m.\u001b[39;00m\u001b[34;01mpreprocessing\u001b[39;00m\u001b[38;5;250m \u001b[39m\u001b[38;5;28;01mimport\u001b[39;00m StandardScaler\n",
      "\u001b[36mFile \u001b[39m\u001b[32m~\\Documents\\AppliedML\\Music-AppliedML\\courselib\\utils\\loaders.py:2\u001b[39m\n\u001b[32m      1\u001b[39m \u001b[38;5;28;01mimport\u001b[39;00m\u001b[38;5;250m \u001b[39m\u001b[34;01mos\u001b[39;00m\n\u001b[32m----> \u001b[39m\u001b[32m2\u001b[39m \u001b[38;5;28;01mimport\u001b[39;00m\u001b[38;5;250m \u001b[39m\u001b[34;01mpandas\u001b[39;00m\u001b[38;5;250m \u001b[39m\u001b[38;5;28;01mas\u001b[39;00m\u001b[38;5;250m \u001b[39m\u001b[34;01mpd\u001b[39;00m\n\u001b[32m      4\u001b[39m \u001b[38;5;28;01mdef\u001b[39;00m\u001b[38;5;250m \u001b[39m\u001b[34mload_or_download_csv\u001b[39m(file_name, url, column_names=\u001b[38;5;28;01mNone\u001b[39;00m, encoding=\u001b[33m'\u001b[39m\u001b[33mutf-8\u001b[39m\u001b[33m'\u001b[39m):\n\u001b[32m      5\u001b[39m     \u001b[38;5;28;01mif\u001b[39;00m os.path.exists(file_name):\n",
      "\u001b[31mModuleNotFoundError\u001b[39m: No module named 'pandas'"
     ]
    }
   ],
   "source": [
    "%load_ext autoreload\n",
    "%autoreload 2\n",
    "\n",
    "import numpy as np\n",
    "import matplotlib.pyplot as plt\n",
    "import random\n",
    "import sys\n",
    "import os\n",
    "\n",
    "import courselib.utils.loaders as loaders\n",
    "from courselib.utils.splits import train_test_split\n",
    "from sklearn.preprocessing import StandardScaler\n",
    "from courselib.models.multiclass_svm import KernelMulticlassOvR\n",
    "from courselib.models.multiclass_svm import KernelMulticlassOvO\n",
    "\n",
    "\n",
    "# Add the repo root (two levels up from this notebook) to sys.path\n",
    "sys.path.insert(0, os.path.abspath(\"../../\"))\n",
    "\n",
    "config = {\n",
    "    \"C\": 1.0,\n",
    "    \"kernel\": \"rbf\",\n",
    "    \"random_seed\": 42,\n",
    "    \"training_data_fraction\": 0.8\n",
    "}\n",
    "\n",
    "np.random.seed(config[\"random_seed\"])\n",
    "random.seed(config[\"random_seed\"])"
   ]
  },
  {
   "cell_type": "markdown",
   "id": "517ae3e4",
   "metadata": {},
   "source": [
    "### Loading\n",
    " \n",
    "The GTZAN dataset has data in 2 formats:\n",
    "1. 30s fragments of each song\n",
    "2. Each fragment from 1. is split into 10 segments with 3s length\n",
    "\n",
    "We will work with the 30s file."
   ]
  },
  {
   "cell_type": "code",
   "execution_count": null,
   "id": "b4b9ab42",
   "metadata": {},
   "outputs": [],
   "source": [
    "df = loaders.load_music_30_sec()\n",
    "#df = loaders.load_music_3_sec()"
   ]
  },
  {
   "cell_type": "markdown",
   "id": "ae87f5c7",
   "metadata": {},
   "source": [
    "### Train-Test Split\n",
    "\n",
    "We will train the models on all MFCC features and do the train-test split proportion 80/20."
   ]
  },
  {
   "cell_type": "code",
   "execution_count": null,
   "id": "f912cd65",
   "metadata": {},
   "outputs": [],
   "source": [
    "# Extract only MFCC columns from df\n",
    "mfcc_columns = [col for col in df.columns if col.startswith('mfcc')]\n",
    "features = mfcc_columns + ['label']\n",
    "\n",
    "# Do train test split\n",
    "X, Y, X_train, Y_train, X_test, Y_test = train_test_split(\n",
    "    df[features],\n",
    "    training_data_fraction=config[\"training_data_fraction\"],\n",
    "    class_column_name='label',\n",
    "    shuffle=True,\n",
    "    return_numpy=True\n",
    ")\n",
    "\n",
    "print('Training data split as follows:')\n",
    "print(f'  Training data samples: {len(X_train)}')\n",
    "print(f'      Test data samples: {len(X_test)}')"
   ]
  },
  {
   "cell_type": "markdown",
   "id": "fadf5ba2",
   "metadata": {},
   "source": [
    "## Preprocessing\n",
    "\n",
    "We standardize our features using z-score normalization. This step rescales all features to have zero mean and unit variance.\n",
    "\n",
    "We also compute a reasonable value for the kernel width parameter $\\sigma$ using the *median heuristic*:\n",
    "$$\n",
    "\\sigma = \\sqrt{ \\frac{ \\text{median}( \\| x_i - x_j \\|^2 ) }{2} }\n",
    "$$\n",
    "\n",
    "This tunning was done because of low accuracy on not preprocessed data."
   ]
  },
  {
   "cell_type": "code",
   "execution_count": null,
   "id": "e510c413",
   "metadata": {},
   "outputs": [],
   "source": [
    "# Standardize features (z-score)\n",
    "scaler = StandardScaler().fit(X_train)\n",
    "X_train_z = scaler.transform(X_train)\n",
    "X_test_z  = scaler.transform(X_test)\n",
    "\n",
    "# Compute kernel width using median heuristic (for RBF kernel)\n",
    "subset = X_train_z[np.random.choice(len(X_train_z), 500, replace=False)]\n",
    "d2 = np.sum((subset[:, None, :] - subset[None, :, :])**2, axis=-1)\n",
    "sigma = np.sqrt(0.5 * np.median(d2[d2 > 0]))  # avoid zero distances\n",
    "\n",
    "X_train = X_train_z\n",
    "X_test = X_test_z"
   ]
  },
  {
   "cell_type": "markdown",
   "id": "38ee16d6",
   "metadata": {},
   "source": [
    "### OvR model\n",
    "\n",
    "First we train the OvR classification strategy with the RBF Binary Kernel SVM model.\n",
    "\n",
    "Then evaluate the performance ovr the test data. Both single model as well as overall performance statistics are calculated."
   ]
  },
  {
   "cell_type": "code",
   "execution_count": null,
   "id": "138a0c00",
   "metadata": {},
   "outputs": [],
   "source": [
    "svmOvR = KernelMulticlassOvR(kernel=config[\"kernel\"], sigma=sigma, C=config[\"C\"])\n",
    "svmOvR.fit(X_train, Y_train)"
   ]
  },
  {
   "cell_type": "code",
   "execution_count": null,
   "id": "d57ff5d0",
   "metadata": {},
   "outputs": [],
   "source": [
    "svmOvR.evaluate_models(X_test, Y_test)\n",
    "svmOvR.evaluate_accuracy(X_test, Y_test)"
   ]
  },
  {
   "cell_type": "markdown",
   "id": "eddfdf08",
   "metadata": {},
   "source": [
    "### OvO model\n",
    "\n",
    "First we train the OvO classification strategy with the RBF Binary Kernel SVM model.\n",
    "\n",
    "Then evaluate the performance ovr the test data. Both single model as well as overall performance statistics are calculated."
   ]
  },
  {
   "cell_type": "code",
   "execution_count": null,
   "id": "d10a1f3f",
   "metadata": {},
   "outputs": [],
   "source": [
    "svmOvO = KernelMulticlassOvO(kernel=config[\"kernel\"], sigma=sigma, C=config[\"C\"])\n",
    "svmOvO.fit(X_train, Y_train)"
   ]
  },
  {
   "cell_type": "code",
   "execution_count": null,
   "id": "00fcff94",
   "metadata": {},
   "outputs": [],
   "source": [
    "svmOvO.evaluate_models(X_test, Y_test)\n",
    "svmOvO.evaluate_accuracy(X_test, Y_test)"
   ]
  }
 ],
 "metadata": {
  "kernelspec": {
   "display_name": "Python (test_env)",
   "language": "python",
   "name": "test_env"
  },
  "language_info": {
   "codemirror_mode": {
    "name": "ipython",
    "version": 3
   },
   "file_extension": ".py",
   "mimetype": "text/x-python",
   "name": "python",
   "nbconvert_exporter": "python",
   "pygments_lexer": "ipython3",
   "version": "3.12.7"
  }
 },
 "nbformat": 4,
 "nbformat_minor": 5
}
