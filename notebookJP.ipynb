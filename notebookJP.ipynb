{
 "cells": [
  {
   "cell_type": "code",
   "execution_count": 2,
   "id": "5079b06e",
   "metadata": {},
   "outputs": [],
   "source": [
    "%load_ext autoreload\n",
    "%autoreload 2\n",
    "\n",
    "import numpy as np\n",
    "import matplotlib.pyplot as plt\n",
    "import sys\n",
    "import os\n",
    "\n",
    "# Add the repo root (two levels up from this notebook) to sys.path\n",
    "sys.path.insert(0, os.path.abspath(\"../../\"))"
   ]
  },
  {
   "cell_type": "code",
   "execution_count": 23,
   "id": "b4b9ab42",
   "metadata": {},
   "outputs": [
    {
     "name": "stdout",
     "output_type": "stream",
     "text": [
      "Loading from `features_30_sec.csv`...\n"
     ]
    }
   ],
   "source": [
    "import courselib.utils.loaders as loaders\n",
    "\n",
    "df = loaders.load_music_30_sec()\n",
    "#df = loaders.load_music_3_sec()"
   ]
  },
  {
   "cell_type": "code",
   "execution_count": 20,
   "id": "f912cd65",
   "metadata": {},
   "outputs": [
    {
     "name": "stdout",
     "output_type": "stream",
     "text": [
      "Training data split as follows:\n",
      "  Training data samples: 7992\n",
      "      Test data samples: 1998\n"
     ]
    }
   ],
   "source": [
    "from courselib.utils.splits import train_test_split\n",
    "\n",
    "# Extract only MFCC columns from df\n",
    "mfcc_columns = [col for col in df.columns if col.startswith('mfcc')]\n",
    "features = mfcc_columns + ['label']\n",
    "\n",
    "# Do train test split\n",
    "X, Y, X_train, Y_train, X_test, Y_test = train_test_split(\n",
    "    df[features],\n",
    "    training_data_fraction=0.8,\n",
    "    class_column_name='label',\n",
    "    shuffle=True,\n",
    "    return_numpy=True\n",
    ")\n",
    "\n",
    "print('Training data split as follows:')\n",
    "print(f'  Training data samples: {len(X_train)}')\n",
    "print(f'      Test data samples: {len(X_test)}')"
   ]
  },
  {
   "cell_type": "code",
   "execution_count": 19,
   "id": "138a0c00",
   "metadata": {},
   "outputs": [
    {
     "ename": "KeyboardInterrupt",
     "evalue": "",
     "output_type": "error",
     "traceback": [
      "\u001b[1;31m---------------------------------------------------------------------------\u001b[0m",
      "\u001b[1;31mKeyboardInterrupt\u001b[0m                         Traceback (most recent call last)",
      "Cell \u001b[1;32mIn[19], line 4\u001b[0m\n\u001b[0;32m      1\u001b[0m \u001b[38;5;28;01mfrom\u001b[39;00m\u001b[38;5;250m \u001b[39m\u001b[38;5;21;01mcourselib\u001b[39;00m\u001b[38;5;21;01m.\u001b[39;00m\u001b[38;5;21;01mmodels\u001b[39;00m\u001b[38;5;21;01m.\u001b[39;00m\u001b[38;5;21;01mmulticlass_svm\u001b[39;00m\u001b[38;5;250m \u001b[39m\u001b[38;5;28;01mimport\u001b[39;00m KernelMulticlassOvR\n\u001b[0;32m      3\u001b[0m svmOvR \u001b[38;5;241m=\u001b[39m KernelMulticlassOvR(kernel\u001b[38;5;241m=\u001b[39m\u001b[38;5;124m'\u001b[39m\u001b[38;5;124mrbf\u001b[39m\u001b[38;5;124m'\u001b[39m, sigma\u001b[38;5;241m=\u001b[39m\u001b[38;5;241m1.0\u001b[39m)\n\u001b[1;32m----> 4\u001b[0m \u001b[43msvmOvR\u001b[49m\u001b[38;5;241;43m.\u001b[39;49m\u001b[43mfit\u001b[49m\u001b[43m(\u001b[49m\u001b[43mX_train\u001b[49m\u001b[43m,\u001b[49m\u001b[43m \u001b[49m\u001b[43mY_train\u001b[49m\u001b[43m)\u001b[49m\n",
      "File \u001b[1;32mc:\\Users\\justy\\Documents\\AppliedML\\Music-AppliedML\\courselib\\models\\multiclass_svm.py:22\u001b[0m, in \u001b[0;36mKernelMulticlassOvR.fit\u001b[1;34m(self, X, Y)\u001b[0m\n\u001b[0;32m     16\u001b[0m     Y_encoded \u001b[38;5;241m=\u001b[39m np\u001b[38;5;241m.\u001b[39mwhere(Y \u001b[38;5;241m==\u001b[39m \u001b[38;5;28mcls\u001b[39m, \u001b[38;5;241m1\u001b[39m, \u001b[38;5;241m-\u001b[39m\u001b[38;5;241m1\u001b[39m)\n\u001b[0;32m     17\u001b[0m     svm \u001b[38;5;241m=\u001b[39m BinaryKernelSVM(\n\u001b[0;32m     18\u001b[0m         C\u001b[38;5;241m=\u001b[39m\u001b[38;5;28mself\u001b[39m\u001b[38;5;241m.\u001b[39mC,\n\u001b[0;32m     19\u001b[0m         kernel\u001b[38;5;241m=\u001b[39m\u001b[38;5;28mself\u001b[39m\u001b[38;5;241m.\u001b[39mkernel_type,\n\u001b[0;32m     20\u001b[0m         \u001b[38;5;241m*\u001b[39m\u001b[38;5;241m*\u001b[39m\u001b[38;5;28mself\u001b[39m\u001b[38;5;241m.\u001b[39mkwargs\n\u001b[0;32m     21\u001b[0m     )\n\u001b[1;32m---> 22\u001b[0m     \u001b[43msvm\u001b[49m\u001b[38;5;241;43m.\u001b[39;49m\u001b[43mfit\u001b[49m\u001b[43m(\u001b[49m\u001b[43mX\u001b[49m\u001b[43m,\u001b[49m\u001b[43m \u001b[49m\u001b[43mY_encoded\u001b[49m\u001b[43m)\u001b[49m\n\u001b[0;32m     23\u001b[0m     \u001b[38;5;28mself\u001b[39m\u001b[38;5;241m.\u001b[39mmodels\u001b[38;5;241m.\u001b[39mappend(svm)\n\u001b[0;32m     24\u001b[0m \u001b[38;5;28mself\u001b[39m\u001b[38;5;241m.\u001b[39mlabels \u001b[38;5;241m=\u001b[39m class_names\n",
      "File \u001b[1;32mc:\\Users\\justy\\Documents\\AppliedML\\Music-AppliedML\\courselib\\models\\svm.py:122\u001b[0m, in \u001b[0;36mBinaryKernelSVM.fit\u001b[1;34m(self, X, Y)\u001b[0m\n\u001b[0;32m    119\u001b[0m cvxopt\u001b[38;5;241m.\u001b[39msolvers\u001b[38;5;241m.\u001b[39moptions[\u001b[38;5;124m'\u001b[39m\u001b[38;5;124mshow_progress\u001b[39m\u001b[38;5;124m'\u001b[39m] \u001b[38;5;241m=\u001b[39m \u001b[38;5;28;01mFalse\u001b[39;00m\n\u001b[0;32m    121\u001b[0m \u001b[38;5;66;03m# Solve QP\u001b[39;00m\n\u001b[1;32m--> 122\u001b[0m solution \u001b[38;5;241m=\u001b[39m \u001b[43mcvxopt\u001b[49m\u001b[38;5;241;43m.\u001b[39;49m\u001b[43msolvers\u001b[49m\u001b[38;5;241;43m.\u001b[39;49m\u001b[43mqp\u001b[49m\u001b[43m(\u001b[49m\u001b[43mP\u001b[49m\u001b[43m,\u001b[49m\u001b[43m \u001b[49m\u001b[43mq\u001b[49m\u001b[43m,\u001b[49m\u001b[43m \u001b[49m\u001b[43mG\u001b[49m\u001b[43m,\u001b[49m\u001b[43m \u001b[49m\u001b[43mh\u001b[49m\u001b[43m,\u001b[49m\u001b[43m \u001b[49m\u001b[43mA\u001b[49m\u001b[43m,\u001b[49m\u001b[43m \u001b[49m\u001b[43mb\u001b[49m\u001b[43m)\u001b[49m\n\u001b[0;32m    123\u001b[0m alphas \u001b[38;5;241m=\u001b[39m np\u001b[38;5;241m.\u001b[39mravel(solution[\u001b[38;5;124m'\u001b[39m\u001b[38;5;124mx\u001b[39m\u001b[38;5;124m'\u001b[39m])\n\u001b[0;32m    125\u001b[0m \u001b[38;5;66;03m# Support vectors: alphas > threshold\u001b[39;00m\n",
      "File \u001b[1;32mc:\\Users\\justy\\anaconda3\\envs\\applied_ml\\lib\\site-packages\\cvxopt\\coneprog.py:4485\u001b[0m, in \u001b[0;36mqp\u001b[1;34m(P, q, G, h, A, b, solver, kktsolver, initvals, **kwargs)\u001b[0m\n\u001b[0;32m   4475\u001b[0m         pinfres, dinfres \u001b[38;5;241m=\u001b[39m \u001b[38;5;28;01mNone\u001b[39;00m, \u001b[38;5;28;01mNone\u001b[39;00m\n\u001b[0;32m   4477\u001b[0m     \u001b[38;5;28;01mreturn\u001b[39;00m {\u001b[38;5;124m'\u001b[39m\u001b[38;5;124mstatus\u001b[39m\u001b[38;5;124m'\u001b[39m: status, \u001b[38;5;124m'\u001b[39m\u001b[38;5;124mx\u001b[39m\u001b[38;5;124m'\u001b[39m: x, \u001b[38;5;124m'\u001b[39m\u001b[38;5;124ms\u001b[39m\u001b[38;5;124m'\u001b[39m: s, \u001b[38;5;124m'\u001b[39m\u001b[38;5;124my\u001b[39m\u001b[38;5;124m'\u001b[39m: y, \u001b[38;5;124m'\u001b[39m\u001b[38;5;124mz\u001b[39m\u001b[38;5;124m'\u001b[39m: z,\n\u001b[0;32m   4478\u001b[0m         \u001b[38;5;124m'\u001b[39m\u001b[38;5;124mprimal objective\u001b[39m\u001b[38;5;124m'\u001b[39m: pcost, \u001b[38;5;124m'\u001b[39m\u001b[38;5;124mdual objective\u001b[39m\u001b[38;5;124m'\u001b[39m: dcost,\n\u001b[0;32m   4479\u001b[0m         \u001b[38;5;124m'\u001b[39m\u001b[38;5;124mgap\u001b[39m\u001b[38;5;124m'\u001b[39m: gap, \u001b[38;5;124m'\u001b[39m\u001b[38;5;124mrelative gap\u001b[39m\u001b[38;5;124m'\u001b[39m: relgap,\n\u001b[1;32m   (...)\u001b[0m\n\u001b[0;32m   4482\u001b[0m         \u001b[38;5;124m'\u001b[39m\u001b[38;5;124mresidual as primal infeasibility certificate\u001b[39m\u001b[38;5;124m'\u001b[39m: pinfres,\n\u001b[0;32m   4483\u001b[0m         \u001b[38;5;124m'\u001b[39m\u001b[38;5;124mresidual as dual infeasibility certificate\u001b[39m\u001b[38;5;124m'\u001b[39m: dinfres}\n\u001b[1;32m-> 4485\u001b[0m \u001b[38;5;28;01mreturn\u001b[39;00m \u001b[43mconeqp\u001b[49m\u001b[43m(\u001b[49m\u001b[43mP\u001b[49m\u001b[43m,\u001b[49m\u001b[43m \u001b[49m\u001b[43mq\u001b[49m\u001b[43m,\u001b[49m\u001b[43m \u001b[49m\u001b[43mG\u001b[49m\u001b[43m,\u001b[49m\u001b[43m \u001b[49m\u001b[43mh\u001b[49m\u001b[43m,\u001b[49m\u001b[43m \u001b[49m\u001b[38;5;28;43;01mNone\u001b[39;49;00m\u001b[43m,\u001b[49m\u001b[43m \u001b[49m\u001b[43mA\u001b[49m\u001b[43m,\u001b[49m\u001b[43m  \u001b[49m\u001b[43mb\u001b[49m\u001b[43m,\u001b[49m\u001b[43m \u001b[49m\u001b[43minitvals\u001b[49m\u001b[43m,\u001b[49m\u001b[43m \u001b[49m\u001b[43mkktsolver\u001b[49m\u001b[43m \u001b[49m\u001b[38;5;241;43m=\u001b[39;49m\u001b[43m \u001b[49m\u001b[43mkktsolver\u001b[49m\u001b[43m,\u001b[49m\u001b[43m \u001b[49m\u001b[43moptions\u001b[49m\u001b[43m \u001b[49m\u001b[38;5;241;43m=\u001b[39;49m\u001b[43m \u001b[49m\u001b[43moptions\u001b[49m\u001b[43m)\u001b[49m\n",
      "File \u001b[1;32mc:\\Users\\justy\\anaconda3\\envs\\applied_ml\\lib\\site-packages\\cvxopt\\coneprog.py:2256\u001b[0m, in \u001b[0;36mconeqp\u001b[1;34m(P, q, G, h, dims, A, b, initvals, kktsolver, xnewcopy, xdot, xaxpy, xscal, ynewcopy, ydot, yaxpy, yscal, **kwargs)\u001b[0m\n\u001b[0;32m   2244\u001b[0m misc\u001b[38;5;241m.\u001b[39mssqr(lmbdasq, lmbda, dims)\n\u001b[0;32m   2247\u001b[0m \u001b[38;5;66;03m# f3(x, y, z) solves\u001b[39;00m\n\u001b[0;32m   2248\u001b[0m \u001b[38;5;66;03m#\u001b[39;00m\n\u001b[0;32m   2249\u001b[0m \u001b[38;5;66;03m#    [ P   A'  G'    ] [ ux        ]   [ bx ]\u001b[39;00m\n\u001b[1;32m   (...)\u001b[0m\n\u001b[0;32m   2253\u001b[0m \u001b[38;5;66;03m# On entry, x, y, z containg bx, by, bz.\u001b[39;00m\n\u001b[0;32m   2254\u001b[0m \u001b[38;5;66;03m# On exit, they contain ux, uy, uz.\u001b[39;00m\n\u001b[1;32m-> 2256\u001b[0m \u001b[38;5;28;01mtry\u001b[39;00m: f3 \u001b[38;5;241m=\u001b[39m \u001b[43mkktsolver\u001b[49m\u001b[43m(\u001b[49m\u001b[43mW\u001b[49m\u001b[43m)\u001b[49m\n\u001b[0;32m   2257\u001b[0m \u001b[38;5;28;01mexcept\u001b[39;00m \u001b[38;5;167;01mArithmeticError\u001b[39;00m:\n\u001b[0;32m   2258\u001b[0m     \u001b[38;5;28;01mif\u001b[39;00m iters \u001b[38;5;241m==\u001b[39m \u001b[38;5;241m0\u001b[39m:\n",
      "File \u001b[1;32mc:\\Users\\justy\\anaconda3\\envs\\applied_ml\\lib\\site-packages\\cvxopt\\coneprog.py:1981\u001b[0m, in \u001b[0;36mconeqp.<locals>.kktsolver\u001b[1;34m(W)\u001b[0m\n\u001b[0;32m   1980\u001b[0m \u001b[38;5;28;01mdef\u001b[39;00m\u001b[38;5;250m \u001b[39m\u001b[38;5;21mkktsolver\u001b[39m(W):\n\u001b[1;32m-> 1981\u001b[0m     \u001b[38;5;28;01mreturn\u001b[39;00m \u001b[43mfactor\u001b[49m\u001b[43m(\u001b[49m\u001b[43mW\u001b[49m\u001b[43m,\u001b[49m\u001b[43m \u001b[49m\u001b[43mP\u001b[49m\u001b[43m)\u001b[49m\n",
      "File \u001b[1;32mc:\\Users\\justy\\anaconda3\\envs\\applied_ml\\lib\\site-packages\\cvxopt\\misc.py:1460\u001b[0m, in \u001b[0;36mkkt_chol2.<locals>.factor\u001b[1;34m(W, H, Df)\u001b[0m\n\u001b[0;32m   1457\u001b[0m     base\u001b[38;5;241m.\u001b[39msyrk(A, F[\u001b[38;5;124m'\u001b[39m\u001b[38;5;124mS\u001b[39m\u001b[38;5;124m'\u001b[39m], trans \u001b[38;5;241m=\u001b[39m \u001b[38;5;124m'\u001b[39m\u001b[38;5;124mT\u001b[39m\u001b[38;5;124m'\u001b[39m, beta \u001b[38;5;241m=\u001b[39m \u001b[38;5;241m1.0\u001b[39m, partial \u001b[38;5;241m=\u001b[39m \n\u001b[0;32m   1458\u001b[0m         \u001b[38;5;28;01mTrue\u001b[39;00m) \n\u001b[0;32m   1459\u001b[0m \u001b[38;5;28;01mif\u001b[39;00m \u001b[38;5;28mtype\u001b[39m(F[\u001b[38;5;124m'\u001b[39m\u001b[38;5;124mS\u001b[39m\u001b[38;5;124m'\u001b[39m]) \u001b[38;5;129;01mis\u001b[39;00m matrix: \n\u001b[1;32m-> 1460\u001b[0m     \u001b[43mlapack\u001b[49m\u001b[38;5;241;43m.\u001b[39;49m\u001b[43mpotrf\u001b[49m\u001b[43m(\u001b[49m\u001b[43mF\u001b[49m\u001b[43m[\u001b[49m\u001b[38;5;124;43m'\u001b[39;49m\u001b[38;5;124;43mS\u001b[39;49m\u001b[38;5;124;43m'\u001b[39;49m\u001b[43m]\u001b[49m\u001b[43m)\u001b[49m \n\u001b[0;32m   1461\u001b[0m \u001b[38;5;28;01melse\u001b[39;00m:\n\u001b[0;32m   1462\u001b[0m     cholmod\u001b[38;5;241m.\u001b[39mnumeric(F[\u001b[38;5;124m'\u001b[39m\u001b[38;5;124mS\u001b[39m\u001b[38;5;124m'\u001b[39m], F[\u001b[38;5;124m'\u001b[39m\u001b[38;5;124mSf\u001b[39m\u001b[38;5;124m'\u001b[39m])\n",
      "\u001b[1;31mKeyboardInterrupt\u001b[0m: "
     ]
    }
   ],
   "source": [
    "from courselib.models.multiclass_svm import KernelMulticlassOvR\n",
    "\n",
    "svmOvR = KernelMulticlassOvR(kernel='rbf', sigma=1.0)\n",
    "svmOvR.fit(X_train, Y_train)"
   ]
  },
  {
   "cell_type": "code",
   "execution_count": 14,
   "id": "d57ff5d0",
   "metadata": {},
   "outputs": [
    {
     "name": "stdout",
     "output_type": "stream",
     "text": [
      "📊 Accuracy of each binary model (One-vs-Rest):\n",
      "  - Class 'blues': 89.5000 (Support vectors: 800)\n",
      "  - Class 'classical': 89.0000 (Support vectors: 800)\n",
      "  - Class 'country': 91.5000 (Support vectors: 800)\n",
      "  - Class 'disco': 89.5000 (Support vectors: 800)\n",
      "  - Class 'hiphop': 88.0000 (Support vectors: 800)\n",
      "  - Class 'jazz': 91.5000 (Support vectors: 800)\n",
      "  - Class 'metal': 91.5000 (Support vectors: 800)\n",
      "  - Class 'pop': 90.0000 (Support vectors: 800)\n",
      "  - Class 'reggae': 91.0000 (Support vectors: 800)\n",
      "  - Class 'rock': 90.0000 (Support vectors: 800)\n",
      "🎯 Overall accuracy (OvR): 0.1050\n"
     ]
    }
   ],
   "source": [
    "svmOvR.evaluate_models(X_test, Y_test)\n",
    "svmOvR.evaluate_accuracy(X_test, Y_test)"
   ]
  },
  {
   "cell_type": "code",
   "execution_count": 21,
   "id": "d10a1f3f",
   "metadata": {},
   "outputs": [],
   "source": [
    "from courselib.models.multiclass_svm import KernelMulticlassOvO\n",
    "\n",
    "svmOvO = KernelMulticlassOvO(kernel='rbf', sigma=1.0)\n",
    "svmOvO.fit(X_train, Y_train)"
   ]
  },
  {
   "cell_type": "code",
   "execution_count": 22,
   "id": "00fcff94",
   "metadata": {},
   "outputs": [
    {
     "name": "stdout",
     "output_type": "stream",
     "text": [
      "📊 Accuracy of each OvO binary classifier:\n",
      "  - Classifier 'blues' vs 'classical': 51.1166 (Support vectors: 1595)\n",
      "  - Classifier 'blues' vs 'country': 49.4975 (Support vectors: 1599)\n",
      "  - Classifier 'blues' vs 'disco': 49.8741 (Support vectors: 1602)\n",
      "  - Classifier 'blues' vs 'hiphop': 51.2626 (Support vectors: 1602)\n",
      "  - Classifier 'blues' vs 'jazz': 51.1688 (Support vectors: 1615)\n",
      "  - Classifier 'blues' vs 'metal': 54.3860 (Support vectors: 1601)\n",
      "  - Classifier 'blues' vs 'pop': 51.7857 (Support vectors: 1608)\n",
      "  - Classifier 'blues' vs 'reggae': 51.4139 (Support vectors: 1611)\n",
      "  - Classifier 'blues' vs 'rock': 47.4699 (Support vectors: 1583)\n",
      "  - Classifier 'classical' vs 'country': 49.3857 (Support vectors: 1588)\n",
      "  - Classifier 'classical' vs 'disco': 50.9852 (Support vectors: 1591)\n",
      "  - Classifier 'classical' vs 'hiphop': 52.3457 (Support vectors: 1591)\n",
      "  - Classifier 'classical' vs 'jazz': 47.7157 (Support vectors: 1604)\n",
      "  - Classifier 'classical' vs 'metal': 55.3922 (Support vectors: 1590)\n",
      "  - Classifier 'classical' vs 'pop': 52.8678 (Support vectors: 1597)\n",
      "  - Classifier 'classical' vs 'reggae': 48.2412 (Support vectors: 1600)\n",
      "  - Classifier 'classical' vs 'rock': 48.5849 (Support vectors: 1572)\n",
      "  - Classifier 'country' vs 'disco': 50.3741 (Support vectors: 1595)\n",
      "  - Classifier 'country' vs 'hiphop': 51.7500 (Support vectors: 1595)\n",
      "  - Classifier 'country' vs 'jazz': 48.3290 (Support vectors: 1608)\n",
      "  - Classifier 'country' vs 'metal': 54.8387 (Support vectors: 1594)\n",
      "  - Classifier 'country' vs 'pop': 49.2424 (Support vectors: 1601)\n",
      "  - Classifier 'country' vs 'reggae': 48.8550 (Support vectors: 1604)\n",
      "  - Classifier 'country' vs 'rock': 47.9714 (Support vectors: 1576)\n",
      "  - Classifier 'disco' vs 'hiphop': 51.6291 (Support vectors: 1598)\n",
      "  - Classifier 'disco' vs 'jazz': 48.7113 (Support vectors: 1611)\n",
      "  - Classifier 'disco' vs 'metal': 54.7264 (Support vectors: 1597)\n",
      "  - Classifier 'disco' vs 'pop': 52.1519 (Support vectors: 1604)\n",
      "  - Classifier 'disco' vs 'reggae': 49.2347 (Support vectors: 1607)\n",
      "  - Classifier 'disco' vs 'rock': 52.3923 (Support vectors: 1579)\n",
      "  - Classifier 'hiphop' vs 'jazz': 50.1292 (Support vectors: 1611)\n",
      "  - Classifier 'hiphop' vs 'metal': 54.6135 (Support vectors: 1597)\n",
      "  - Classifier 'hiphop' vs 'pop': 51.0152 (Support vectors: 1604)\n",
      "  - Classifier 'hiphop' vs 'reggae': 50.6394 (Support vectors: 1607)\n",
      "  - Classifier 'hiphop' vs 'rock': 47.7218 (Support vectors: 1579)\n",
      "  - Classifier 'jazz' vs 'metal': 53.3333 (Support vectors: 1610)\n",
      "  - Classifier 'jazz' vs 'pop': 50.6527 (Support vectors: 1617)\n",
      "  - Classifier 'jazz' vs 'reggae': 50.2632 (Support vectors: 1620)\n",
      "  - Classifier 'jazz' vs 'rock': 46.3054 (Support vectors: 1592)\n",
      "  - Classifier 'metal' vs 'pop': 54.1562 (Support vectors: 1603)\n",
      "  - Classifier 'metal' vs 'reggae': 53.8071 (Support vectors: 1606)\n",
      "  - Classifier 'metal' vs 'rock': 56.6667 (Support vectors: 1578)\n",
      "  - Classifier 'pop' vs 'reggae': 51.1628 (Support vectors: 1613)\n",
      "  - Classifier 'pop' vs 'rock': 47.2155 (Support vectors: 1585)\n",
      "  - Classifier 'reggae' vs 'rock': 46.8293 (Support vectors: 1588)\n",
      "🎯 Overall accuracy (OvO): 0.1166\n"
     ]
    }
   ],
   "source": [
    "svmOvO.evaluate_models(X_test, Y_test)\n",
    "svmOvO.evaluate_accuracy(X_test, Y_test)"
   ]
  },
  {
   "cell_type": "markdown",
   "id": "ff0cce85",
   "metadata": {},
   "source": []
  }
 ],
 "metadata": {
  "kernelspec": {
   "display_name": "applied_ml",
   "language": "python",
   "name": "python3"
  },
  "language_info": {
   "codemirror_mode": {
    "name": "ipython",
    "version": 3
   },
   "file_extension": ".py",
   "mimetype": "text/x-python",
   "name": "python",
   "nbconvert_exporter": "python",
   "pygments_lexer": "ipython3",
   "version": "3.10.16"
  }
 },
 "nbformat": 4,
 "nbformat_minor": 5
}
