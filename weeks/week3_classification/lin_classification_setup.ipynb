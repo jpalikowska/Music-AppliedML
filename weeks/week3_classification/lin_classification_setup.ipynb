{
 "cells": [
  {
   "cell_type": "markdown",
   "metadata": {},
   "source": [
    "© [Mariia Seleznova](https://www.ai.math.uni-muenchen.de/members/postdocs/mariia-seleznova/index.html), 2025. [CC BY 4.0](https://creativecommons.org/licenses/by/4.0/)."
   ]
  },
  {
   "cell_type": "markdown",
   "metadata": {
    "id": "nx-rGrtYpbXf"
   },
   "source": [
    "# Linear classification setup\n",
    "\n",
    "In this class, we will prepare some visualization and data preprocessing tools for linear classification. \n",
    "\n",
    "We will start with **linear binary classification**, i.e. we will only have two classes with labels $(1,-1)$, and use the **Iris dataset** that you already know as the first example."
   ]
  },
  {
   "cell_type": "markdown",
   "metadata": {
    "id": "8r0S3j6jpbXl"
   },
   "source": [
    "We start out importing all required packages:"
   ]
  },
  {
   "cell_type": "code",
   "execution_count": 1,
   "metadata": {
    "id": "cwpGchmhpbXm"
   },
   "outputs": [],
   "source": [
    "import os\n",
    "\n",
    "import numpy as np\n",
    "import pandas as pd\n",
    "\n",
    "import matplotlib\n",
    "import matplotlib.pyplot as plt"
   ]
  },
  {
   "cell_type": "markdown",
   "metadata": {
    "id": "fXE20wc7pbXk"
   },
   "source": [
    "## Load the data"
   ]
  },
  {
   "cell_type": "markdown",
   "metadata": {
    "id": "_t_1VwzMpbXn"
   },
   "source": [
    "Next we load the Iris data set from the url: https://archive.ics.uci.edu/ml/datasets/iris\n",
    "Note that the column names are missing in the CSV file. They are described in the accompanying file: https://archive.ics.uci.edu/ml/machine-learning-databases/iris/iris.names.\n",
    "\n",
    "📌 Since the Iris dataset has become the machine learning \"Hello, World!\" equivalent, it is also a part of many machine learning libraries. For example, it's [included](https://scikit-learn.org/1.4/auto_examples/datasets/plot_iris_dataset.html) in `datasets` module of `scikit-learn` library.\n",
    "\n",
    "📌 Loading and preprocessing data is often a tedious task that can take up a lot of ML researcher's time, because public dataset come in very different formats. Therefore, high-level ML frameworks (especially deep learning frameworks) often include data modules with ready-to-use versions of common datasets to speed up implementation and testing of ML algorithms. \n"
   ]
  },
  {
   "cell_type": "code",
   "execution_count": 2,
   "metadata": {
    "colab": {
     "base_uri": "https://localhost:8080/"
    },
    "id": "9ZnwqiWcpbXn",
    "outputId": "f95780f7-2a40-4756-bf7c-4bb822d52c34"
   },
   "outputs": [
    {
     "name": "stdout",
     "output_type": "stream",
     "text": [
      "Loading data from local file `iris_data_set.csv`...\n"
     ]
    }
   ],
   "source": [
    "file_name = 'iris_data_set.csv'\n",
    "url = 'https://archive.ics.uci.edu/ml/machine-learning-databases/iris/iris.data'\n",
    "column_names = ['sepal length [cm]', 'sepal width [cm]',\n",
    "                'petal length [cm]', 'petal width [cm]', 'iris type']\n",
    "\n",
    "if os.path.exists(file_name):\n",
    "    print(f'Loading data from local file `{file_name}`...')\n",
    "    df = pd.read_csv(file_name)\n",
    "else:\n",
    "    print(f'Loading data from `{url}`...')\n",
    "    df = pd.read_csv(url, names=column_names)\n",
    "    df.to_csv(file_name)\n",
    "    print('Done.')"
   ]
  },
  {
   "cell_type": "markdown",
   "metadata": {
    "id": "6pN3zIG9pbXp"
   },
   "source": [
    "Let us inspect the data again:"
   ]
  },
  {
   "cell_type": "code",
   "execution_count": 3,
   "metadata": {
    "colab": {
     "base_uri": "https://localhost:8080/",
     "height": 419
    },
    "id": "dzyRqQqapbXq",
    "outputId": "e515b252-cdc4-49c5-b414-bd4342b9930e"
   },
   "outputs": [
    {
     "data": {
      "text/html": [
       "<div>\n",
       "<style scoped>\n",
       "    .dataframe tbody tr th:only-of-type {\n",
       "        vertical-align: middle;\n",
       "    }\n",
       "\n",
       "    .dataframe tbody tr th {\n",
       "        vertical-align: top;\n",
       "    }\n",
       "\n",
       "    .dataframe thead th {\n",
       "        text-align: right;\n",
       "    }\n",
       "</style>\n",
       "<table border=\"1\" class=\"dataframe\">\n",
       "  <thead>\n",
       "    <tr style=\"text-align: right;\">\n",
       "      <th></th>\n",
       "      <th>Unnamed: 0</th>\n",
       "      <th>sepal length [cm]</th>\n",
       "      <th>sepal width [cm]</th>\n",
       "      <th>petal length [cm]</th>\n",
       "      <th>petal width [cm]</th>\n",
       "      <th>iris type</th>\n",
       "    </tr>\n",
       "  </thead>\n",
       "  <tbody>\n",
       "    <tr>\n",
       "      <th>0</th>\n",
       "      <td>0</td>\n",
       "      <td>5.1</td>\n",
       "      <td>3.5</td>\n",
       "      <td>1.4</td>\n",
       "      <td>0.2</td>\n",
       "      <td>Iris-setosa</td>\n",
       "    </tr>\n",
       "    <tr>\n",
       "      <th>1</th>\n",
       "      <td>1</td>\n",
       "      <td>4.9</td>\n",
       "      <td>3.0</td>\n",
       "      <td>1.4</td>\n",
       "      <td>0.2</td>\n",
       "      <td>Iris-setosa</td>\n",
       "    </tr>\n",
       "    <tr>\n",
       "      <th>2</th>\n",
       "      <td>2</td>\n",
       "      <td>4.7</td>\n",
       "      <td>3.2</td>\n",
       "      <td>1.3</td>\n",
       "      <td>0.2</td>\n",
       "      <td>Iris-setosa</td>\n",
       "    </tr>\n",
       "    <tr>\n",
       "      <th>3</th>\n",
       "      <td>3</td>\n",
       "      <td>4.6</td>\n",
       "      <td>3.1</td>\n",
       "      <td>1.5</td>\n",
       "      <td>0.2</td>\n",
       "      <td>Iris-setosa</td>\n",
       "    </tr>\n",
       "    <tr>\n",
       "      <th>4</th>\n",
       "      <td>4</td>\n",
       "      <td>5.0</td>\n",
       "      <td>3.6</td>\n",
       "      <td>1.4</td>\n",
       "      <td>0.2</td>\n",
       "      <td>Iris-setosa</td>\n",
       "    </tr>\n",
       "    <tr>\n",
       "      <th>...</th>\n",
       "      <td>...</td>\n",
       "      <td>...</td>\n",
       "      <td>...</td>\n",
       "      <td>...</td>\n",
       "      <td>...</td>\n",
       "      <td>...</td>\n",
       "    </tr>\n",
       "    <tr>\n",
       "      <th>145</th>\n",
       "      <td>145</td>\n",
       "      <td>6.7</td>\n",
       "      <td>3.0</td>\n",
       "      <td>5.2</td>\n",
       "      <td>2.3</td>\n",
       "      <td>Iris-virginica</td>\n",
       "    </tr>\n",
       "    <tr>\n",
       "      <th>146</th>\n",
       "      <td>146</td>\n",
       "      <td>6.3</td>\n",
       "      <td>2.5</td>\n",
       "      <td>5.0</td>\n",
       "      <td>1.9</td>\n",
       "      <td>Iris-virginica</td>\n",
       "    </tr>\n",
       "    <tr>\n",
       "      <th>147</th>\n",
       "      <td>147</td>\n",
       "      <td>6.5</td>\n",
       "      <td>3.0</td>\n",
       "      <td>5.2</td>\n",
       "      <td>2.0</td>\n",
       "      <td>Iris-virginica</td>\n",
       "    </tr>\n",
       "    <tr>\n",
       "      <th>148</th>\n",
       "      <td>148</td>\n",
       "      <td>6.2</td>\n",
       "      <td>3.4</td>\n",
       "      <td>5.4</td>\n",
       "      <td>2.3</td>\n",
       "      <td>Iris-virginica</td>\n",
       "    </tr>\n",
       "    <tr>\n",
       "      <th>149</th>\n",
       "      <td>149</td>\n",
       "      <td>5.9</td>\n",
       "      <td>3.0</td>\n",
       "      <td>5.1</td>\n",
       "      <td>1.8</td>\n",
       "      <td>Iris-virginica</td>\n",
       "    </tr>\n",
       "  </tbody>\n",
       "</table>\n",
       "<p>150 rows × 6 columns</p>\n",
       "</div>"
      ],
      "text/plain": [
       "     Unnamed: 0  sepal length [cm]  sepal width [cm]  petal length [cm]  \\\n",
       "0             0                5.1               3.5                1.4   \n",
       "1             1                4.9               3.0                1.4   \n",
       "2             2                4.7               3.2                1.3   \n",
       "3             3                4.6               3.1                1.5   \n",
       "4             4                5.0               3.6                1.4   \n",
       "..          ...                ...               ...                ...   \n",
       "145         145                6.7               3.0                5.2   \n",
       "146         146                6.3               2.5                5.0   \n",
       "147         147                6.5               3.0                5.2   \n",
       "148         148                6.2               3.4                5.4   \n",
       "149         149                5.9               3.0                5.1   \n",
       "\n",
       "     petal width [cm]       iris type  \n",
       "0                 0.2     Iris-setosa  \n",
       "1                 0.2     Iris-setosa  \n",
       "2                 0.2     Iris-setosa  \n",
       "3                 0.2     Iris-setosa  \n",
       "4                 0.2     Iris-setosa  \n",
       "..                ...             ...  \n",
       "145               2.3  Iris-virginica  \n",
       "146               1.9  Iris-virginica  \n",
       "147               2.0  Iris-virginica  \n",
       "148               2.3  Iris-virginica  \n",
       "149               1.8  Iris-virginica  \n",
       "\n",
       "[150 rows x 6 columns]"
      ]
     },
     "execution_count": 3,
     "metadata": {},
     "output_type": "execute_result"
    }
   ],
   "source": [
    "df"
   ]
  },
  {
   "cell_type": "markdown",
   "metadata": {
    "id": "Uq8YHQm2pbXr"
   },
   "source": [
    "## Assign class labels"
   ]
  },
  {
   "cell_type": "markdown",
   "metadata": {},
   "source": [
    "There are three classes in the Iris dataset. Since we work with binary classification in this class, we will merge two of the original classes into one. Now Iris-setosa will have class label $-1$ and the two other kinds of irises will form class with label $+1$:"
   ]
  },
  {
   "cell_type": "code",
   "execution_count": 4,
   "metadata": {
    "id": "tVId1yITpbXs"
   },
   "outputs": [
    {
     "name": "stderr",
     "output_type": "stream",
     "text": [
      "/var/folders/9v/zb2h9_ys5yz0c88dl39lnxbh0000gn/T/ipykernel_31413/859164777.py:1: FutureWarning: Downcasting behavior in `replace` is deprecated and will be removed in a future version. To retain the old behavior, explicitly call `result.infer_objects(copy=False)`. To opt-in to the future behavior, set `pd.set_option('future.no_silent_downcasting', True)`\n",
      "  df['class'] = df['iris type'].replace(\n"
     ]
    }
   ],
   "source": [
    "df['class'] = df['iris type'].replace(\n",
    "    ['Iris-setosa', 'Iris-versicolor', 'Iris-virginica'],\n",
    "    [-1, 1, 1])"
   ]
  },
  {
   "cell_type": "markdown",
   "metadata": {
    "id": "vmBEvEBApbXt"
   },
   "source": [
    "## Train-test splits"
   ]
  },
  {
   "cell_type": "markdown",
   "metadata": {
    "id": "XLBgvZt4pbXu"
   },
   "source": [
    "In ML, we usually split our data into **training** and **test sets** to evaluate how well a model can generalize to new, unseen data.\n",
    "\n",
    "- The training set is used to **fit** the model — the model learns patterns from this data.\n",
    "- The test set is kept separate and used only for **evaluation**, to check how well the model performs on data it hasn't seen before.\n",
    "\n",
    "This helps prevent **overfitting**, where a model learns the training data too well but fails to perform on new data. By comparing performance on both sets, we can tell if the model is learning meaningful patterns — not just memorizing the data.\n",
    "\n",
    "📌 Some pipelines also include a **validation** split, which is used to tune hyperparameters of ML methods but not to directly fit the data. For now, we won't need this.\n",
    "\n",
    "We define a function to perform a random train-test split:"
   ]
  },
  {
   "cell_type": "code",
   "execution_count": 5,
   "metadata": {
    "id": "BMNuTiuJpbXv",
    "lines_to_next_cell": 2
   },
   "outputs": [],
   "source": [
    "def  train_test_split(df, training_data_fraction, shuffle=True):\n",
    "    \"\"\"\n",
    "    Split all available data into a training and test data set.\n",
    "    \n",
    "    Parameters:\n",
    "    -----------\n",
    "    df : DataFrame\n",
    "        DataFrame of available data.\n",
    "\n",
    "    training_data_fraction : float\n",
    "        The fraction of the data that should be used for training.\n",
    "        E.g., `training_data_fraction=0.6` means 60%.\n",
    "\n",
    "    shuffle : bool , optional\n",
    "        If True, randomly reshuffles the data before the split.\n",
    "\n",
    "    Returns:\n",
    "    -------\n",
    "    _df : DataFrame\n",
    "        Shuffled DataFrame\n",
    "\n",
    "    train_df: DataFrame\n",
    "        Train split\n",
    "        \n",
    "    test_df: DataFrame\n",
    "        Test split\n",
    "    \"\"\"\n",
    "    \n",
    "    if shuffle is True:\n",
    "        _df = df.sample(frac=1).reset_index(drop=True)\n",
    "    else:\n",
    "        _df= df\n",
    "    \n",
    "    train_df = _df.iloc[:round(training_data_fraction*len(_df)),:]\n",
    "    test_df = _df.iloc[round(training_data_fraction*len(_df)):,:]\n",
    "    \n",
    "    return _df, train_df, test_df"
   ]
  },
  {
   "cell_type": "markdown",
   "metadata": {
    "id": "WvQwPJKzpbXy"
   },
   "source": [
    "We can use this function as follows:"
   ]
  },
  {
   "cell_type": "code",
   "execution_count": 6,
   "metadata": {
    "colab": {
     "base_uri": "https://localhost:8080/"
    },
    "id": "eBrQzWGdpbXz",
    "outputId": "265e7cf3-aa08-4bf4-86e1-d9d42adb0e5c"
   },
   "outputs": [
    {
     "name": "stdout",
     "output_type": "stream",
     "text": [
      "Training data split as follows:\n",
      "  Training data samples: 120\n",
      "      Test data samples: 30\n"
     ]
    }
   ],
   "source": [
    "training_data_fraction = .8\n",
    "\n",
    "df, train_df, test_df =  train_test_split(df, training_data_fraction)\n",
    "\n",
    "# convert DataFrame entries to Numpy arrays\n",
    "# `X, Y`: all data\n",
    "# `train_X, train_Y`: training data\n",
    "# `test_X, test_Y`: training data\n",
    "\n",
    "X = df[['sepal length [cm]', 'petal width [cm]']].to_numpy()\n",
    "Y = df['class'].to_numpy()\n",
    "\n",
    "train_X = train_df[['sepal length [cm]', 'petal width [cm]']].to_numpy()\n",
    "train_Y = train_df['class'].to_numpy()\n",
    "\n",
    "test_X = test_df[['sepal length [cm]', 'petal width [cm]']].to_numpy()\n",
    "test_Y = test_df['class'].to_numpy()\n",
    "\n",
    "print('Training data split as follows:')\n",
    "print(f'  Training data samples: {len(train_df)}')\n",
    "print(f'      Test data samples: {len(test_df)}')"
   ]
  },
  {
   "cell_type": "markdown",
   "metadata": {},
   "source": [
    "### 📌 Sidenote: Documentation"
   ]
  },
  {
   "cell_type": "markdown",
   "metadata": {},
   "source": [
    "Our `train_test_split` function includes ✨documentation✨!\n",
    "\n",
    "It’s a **good practice** to include documentation in your code — especially if anyone else (including future you!) might use it.\n",
    "\n",
    "Getting comfortable with **writing** and **reading documentation** is an essential part of learning to code."
   ]
  },
  {
   "cell_type": "code",
   "execution_count": 7,
   "metadata": {},
   "outputs": [
    {
     "name": "stdout",
     "output_type": "stream",
     "text": [
      "\u001b[31mSignature:\u001b[39m train_test_split(df, training_data_fraction, shuffle=\u001b[38;5;28;01mTrue\u001b[39;00m)\n",
      "\u001b[31mDocstring:\u001b[39m\n",
      "Split all available data into a training and test data set.\n",
      "\n",
      "Parameters:\n",
      "-----------\n",
      "df : DataFrame\n",
      "    DataFrame of available data.\n",
      "\n",
      "training_data_fraction : float\n",
      "    The fraction of the data that should be used for training.\n",
      "    E.g., `training_data_fraction=0.6` means 60%.\n",
      "\n",
      "shuffle : bool , optional\n",
      "    If True, randomly reshuffles the data before the split.\n",
      "\n",
      "Returns:\n",
      "-------\n",
      "_df : DataFrame\n",
      "    Shuffled DataFrame\n",
      "\n",
      "train_df: DataFrame\n",
      "    Train split\n",
      "\n",
      "test_df: DataFrame\n",
      "    Test split\n",
      "\u001b[31mFile:\u001b[39m      /var/folders/9v/zb2h9_ys5yz0c88dl39lnxbh0000gn/T/ipykernel_31413/2708045572.py\n",
      "\u001b[31mType:\u001b[39m      function"
     ]
    }
   ],
   "source": [
    "?train_test_split"
   ]
  },
  {
   "cell_type": "markdown",
   "metadata": {},
   "source": [
    "\n",
    "This documentation was generated directly from the *docstring* that we included right after the function name. Under the hood, the docstring gets saved as the function `__doc__` argument:"
   ]
  },
  {
   "cell_type": "code",
   "execution_count": 8,
   "metadata": {},
   "outputs": [
    {
     "data": {
      "text/plain": [
       "'\\nSplit all available data into a training and test data set.\\n\\nParameters:\\n-----------\\ndf : DataFrame\\n    DataFrame of available data.\\n\\ntraining_data_fraction : float\\n    The fraction of the data that should be used for training.\\n    E.g., `training_data_fraction=0.6` means 60%.\\n\\nshuffle : bool , optional\\n    If True, randomly reshuffles the data before the split.\\n\\nReturns:\\n-------\\n_df : DataFrame\\n    Shuffled DataFrame\\n\\ntrain_df: DataFrame\\n    Train split\\n\\ntest_df: DataFrame\\n    Test split\\n'"
      ]
     },
     "execution_count": 8,
     "metadata": {},
     "output_type": "execute_result"
    }
   ],
   "source": [
    "train_test_split.__doc__"
   ]
  },
  {
   "cell_type": "markdown",
   "metadata": {},
   "source": [
    "💡 Docstrings usually follow this format:\n",
    "\n",
    "- Short summary of the function\n",
    "- Description of parameters\n",
    "- Description of return values"
   ]
  },
  {
   "cell_type": "markdown",
   "metadata": {
    "id": "c90epzCdpbX0"
   },
   "source": [
    "## Visualize the training data"
   ]
  },
  {
   "cell_type": "markdown",
   "metadata": {},
   "source": [
    "For now, we will work with two-dimensional data to visualize every step easily and get intuition about basic ML concepts. Of course, we will also use real high-dimensional data very soon (starting from this week's homework)."
   ]
  },
  {
   "cell_type": "code",
   "execution_count": 9,
   "metadata": {
    "colab": {
     "base_uri": "https://localhost:8080/",
     "height": 388
    },
    "id": "rrXGn_Q8pbX1",
    "outputId": "b453c336-c4b4-4a34-d852-6a8cbae45a6f"
   },
   "outputs": [
    {
     "data": {
      "text/plain": [
       "<matplotlib.legend.Legend at 0x10eb84590>"
      ]
     },
     "execution_count": 9,
     "metadata": {},
     "output_type": "execute_result"
    },
    {
     "data": {
      "image/png": "[encoded data removed]",
      "text/plain": [
       "<Figure size 640x480 with 1 Axes>"
      ]
     },
     "metadata": {},
     "output_type": "display_data"
    }
   ],
   "source": [
    "fig, ax = plt.subplots()\n",
    "\n",
    "train_X_minus1 = train_X[train_Y == -1]\n",
    "plt.scatter(train_X_minus1[:, 0], train_X_minus1[:, 1], marker='x', color='red', label='Train: Iris-setosa')\n",
    "\n",
    "train_X_plus1 = train_X[train_Y == +1]\n",
    "plt.scatter(train_X_plus1[:, 0], train_X_plus1[:, 1], marker='x', color='blue', label='Train: other')\n",
    "\n",
    "plt.xlabel('sepal length [cm]')\n",
    "plt.ylabel('petal width [cm]')\n",
    "plt.legend()"
   ]
  },
  {
   "cell_type": "markdown",
   "metadata": {
    "id": "6myunKukpbX2"
   },
   "source": [
    "## Define a class for Linear Binary Classification"
   ]
  },
  {
   "cell_type": "markdown",
   "metadata": {
    "id": "VO6kTYdIpbX3"
   },
   "source": [
    "Many high-level ML frameworks, including `scikit-learn`, implement ML models as Python **classes**. This follows the [object-oriented programming (OOP) paradigm](https://en.wikipedia.org/wiki/Object-oriented_programming). While it's not the only way to structure ML frameworks, in this course we also adopt the OOP approach — it helps keep things modular, reusable, and organized as your projects grow in complexity.\n",
    "\n",
    "🔔 Are you comfortable with OOP and Python classes? Or should we cover it in more detail?"
   ]
  },
  {
   "cell_type": "markdown",
   "metadata": {},
   "source": [
    "Our class `LinearBinaryClassification` will realize the following decision function (or *hypothesis*):\n",
    " $$h_{w,b}(x)=\\text{sign}(w\\cdot x+b),$$\n",
    "and store the parameters $(w,b)$ as *class attributes*."
   ]
  },
  {
   "cell_type": "code",
   "execution_count": 10,
   "metadata": {
    "id": "E2Dhm-FLpbX4"
   },
   "outputs": [],
   "source": [
    "class LinearBinaryClassification:\n",
    "    \"\"\"\n",
    "    Linear binary classification class.\n",
    "\n",
    "    Stores a linear classification model with parameters (w,b)\n",
    "    and decision function h(x) = sign(w @ x + b)\n",
    "\n",
    "    Parameters:\n",
    "    ----------\n",
    "    w: array\n",
    "    b: array\n",
    "\n",
    "    \"\"\"\n",
    "    def __init__(self, w, b):\n",
    "        self.w = w\n",
    "        self.b = b\n",
    "        \n",
    "    def __call__(self, x):\n",
    "        # Numpy's `where` function provides a fast substitution\n",
    "        return np.where(x @ self.w + self.b >= 0.0, 1, -1)"
   ]
  },
  {
   "cell_type": "markdown",
   "metadata": {
    "id": "Cl2vXYmOpbX5"
   },
   "source": [
    "For now, the class only has two *methods*:\n",
    " - ``__init__``: sets up the model with weights `w` and bias `b`, called automatically when you create an instance of the class.\n",
    " - ``__call__``: lets you apply the model to new inputs using `model(x)` syntax.\n",
    "\n",
    "We can use this class as follows:"
   ]
  },
  {
   "cell_type": "code",
   "execution_count": 11,
   "metadata": {
    "colab": {
     "base_uri": "https://localhost:8080/"
    },
    "id": "U0PPqeLZpbX7",
    "outputId": "618c0615-da58-46ce-ad5b-92492d79c640"
   },
   "outputs": [
    {
     "name": "stdout",
     "output_type": "stream",
     "text": [
      "For weight row vector w=[0.2 1. ], bias term b=-1.8, and argument vector x=[4 5],\n",
      "the model output is 1.\n"
     ]
    }
   ],
   "source": [
    "w = np.array([0.2, 1])\n",
    "b = -1.8\n",
    "model = LinearBinaryClassification(w, b)\n",
    "\n",
    "x = np.array([4, 5])\n",
    "\n",
    "print(f'For weight row vector w={w}, bias term b={b}, and argument vector x={x},\\n'\n",
    "      f'the model output is {model(x)}.')"
   ]
  },
  {
   "cell_type": "markdown",
   "metadata": {
    "id": "EmaWqXWfpbX8"
   },
   "source": [
    "## Visualize decision regions"
   ]
  },
  {
   "cell_type": "markdown",
   "metadata": {},
   "source": [
    "Let's for now choose parameters manually and visualize the decision regions of the model, i.e., parts of the inputs space where model given output $+1$ and $-1$."
   ]
  },
  {
   "cell_type": "code",
   "execution_count": 12,
   "metadata": {},
   "outputs": [],
   "source": [
    "w = np.array([-1, 3])\n",
    "b = 1\n",
    "model = LinearBinaryClassification(w, b)"
   ]
  },
  {
   "cell_type": "code",
   "execution_count": 13,
   "metadata": {
    "colab": {
     "base_uri": "https://localhost:8080/",
     "height": 388
    },
    "id": "CP9AkKsbpbX9",
    "lines_to_next_cell": 2,
    "outputId": "e12be360-cc2c-4011-a7d8-b8427b1b7a6d"
   },
   "outputs": [
    {
     "data": {
      "text/plain": [
       "<matplotlib.legend.Legend at 0x10ec5dd10>"
      ]
     },
     "execution_count": 13,
     "metadata": {},
     "output_type": "execute_result"
    },
    {
     "data": {
      "image/png": "[encoded data removed]",
      "text/plain": [
       "<Figure size 640x480 with 1 Axes>"
      ]
     },
     "metadata": {},
     "output_type": "display_data"
    }
   ],
   "source": [
    "fig, ax = plt.subplots()\n",
    "\n",
    "# compute how large the mesh for the contour plot shall be (with +/- 1 as\n",
    "# safety bleed)\n",
    "x1_min = train_X[:, 0].min() - 1\n",
    "x1_max = train_X[:, 0].max() + 1\n",
    "x2_min = train_X[:, 1].min() - 1\n",
    "x2_max = train_X[:, 1].max() + 1\n",
    "\n",
    "# compute grid for contour plot\n",
    "x1_grid, x2_grid = np.meshgrid(np.arange(x1_min, x1_max, .01), \n",
    "                               np.arange(x2_min, x2_max, .01))\n",
    "# meshgrid produces two arrays of the size `len(np.arange(x1_min, x1_max,\n",
    "# .01))` times `len(np.arange(x2_min, x2_max, .01))` so that computations can\n",
    "# be easily be vectorized.\n",
    "X_list = np.dstack([x1_grid, x2_grid])\n",
    "# present X_list to our hypothesis for evaluation\n",
    "h_grid = model(X_list)\n",
    "\n",
    "cmap = matplotlib.colors.ListedColormap(['red', 'blue'])\n",
    "plt.contourf(x1_grid, x2_grid, h_grid, cmap=cmap, alpha=.3)\n",
    "\n",
    "plt.scatter(train_X_minus1[:, 0], train_X_minus1[:, 1], marker='x', color='red', label='Train: Iris-setosa', alpha=.7)\n",
    "plt.scatter(train_X_plus1[:, 0], train_X_plus1[:, 1], marker='x', color='blue', label='Train: other', alpha=.7)\n",
    "\n",
    "plt.xlabel('sepal length [cm]')\n",
    "plt.xlim(x1_min, x1_max)\n",
    "plt.ylabel('petal width [cm]')\n",
    "plt.ylim(x2_min, x2_max)\n",
    "plt.legend()"
   ]
  },
  {
   "cell_type": "markdown",
   "metadata": {},
   "source": [
    "We can also add the test data to the plot:"
   ]
  },
  {
   "cell_type": "code",
   "execution_count": 14,
   "metadata": {
    "colab": {
     "base_uri": "https://localhost:8080/",
     "height": 388
    },
    "id": "lG-Cv-Y2pbYB",
    "outputId": "54302490-c820-48d3-dbb4-daec5c93a440"
   },
   "outputs": [
    {
     "data": {
      "text/plain": [
       "<matplotlib.legend.Legend at 0x10ee9a990>"
      ]
     },
     "execution_count": 14,
     "metadata": {},
     "output_type": "execute_result"
    },
    {
     "data": {
      "image/png": "[encoded data removed]",
      "text/plain": [
       "<Figure size 640x480 with 1 Axes>"
      ]
     },
     "metadata": {},
     "output_type": "display_data"
    }
   ],
   "source": [
    "fig, ax = plt.subplots()\n",
    "\n",
    "plt.contourf(x1_grid, x2_grid, h_grid, cmap=cmap, alpha=.3)\n",
    "\n",
    "plt.scatter(train_X_minus1[:, 0], train_X_minus1[:, 1], marker='x', color='red', label='Train: Iris-setosa', alpha=.7)\n",
    "plt.scatter(train_X_plus1[:, 0], train_X_plus1[:, 1], marker='x', color='blue', label='Train: other', alpha=.7)\n",
    "\n",
    "test_X_minus1 = test_X[test_Y == -1]\n",
    "test_X_plus1 = test_X[test_Y == +1]\n",
    "plt.scatter(test_X_minus1[:, 0], test_X_minus1[:, 1], marker='.', color='red', label='Test: Iris-setosa', alpha=.7)\n",
    "plt.scatter(test_X_plus1[:, 0], test_X_plus1[:, 1], marker='.', color='blue', label='Test: other', alpha=.7)\n",
    "\n",
    "plt.xlabel('sepal length [cm]')\n",
    "plt.ylabel('petal width [cm]')\n",
    "plt.legend()"
   ]
  },
  {
   "cell_type": "markdown",
   "metadata": {
    "id": "v_ZjW7fipbX-"
   },
   "source": [
    "## Evaluate accuracy"
   ]
  },
  {
   "cell_type": "code",
   "execution_count": 15,
   "metadata": {
    "colab": {
     "base_uri": "https://localhost:8080/"
    },
    "id": "W-cu-KF4pbX_",
    "outputId": "bedba136-5c7d-48f5-dc40-f19126e00fa3"
   },
   "outputs": [
    {
     "name": "stdout",
     "output_type": "stream",
     "text": [
      "Sample size: 120\n",
      "Number of correct classifications: 74\n",
      "Number of incorrect classifications: 46\n"
     ]
    }
   ],
   "source": [
    "N = len(train_X)\n",
    "train_errors = np.sum(model(train_X) != train_Y)\n",
    "print(f'Sample size: {N}')\n",
    "print(f'Number of correct classifications: {N - train_errors}')\n",
    "print(f'Number of incorrect classifications: {train_errors}')"
   ]
  },
  {
   "cell_type": "code",
   "execution_count": 16,
   "metadata": {},
   "outputs": [
    {
     "name": "stdout",
     "output_type": "stream",
     "text": [
      "Train accuracy: 61.66666666666667\n",
      "Test accuracy: 50.0\n"
     ]
    }
   ],
   "source": [
    "def accuracy(y_pred,y_true):\n",
    "    return (np.sum(y_pred == y_true)/y_true.size)*100\n",
    "\n",
    "print(f\"Train accuracy: {accuracy(model(train_X),train_Y)}\")\n",
    "print(f\"Test accuracy: {accuracy(model(test_X),test_Y)}\")"
   ]
  },
  {
   "cell_type": "markdown",
   "metadata": {
    "id": "EdyBBnvkpbYF"
   },
   "source": [
    "## Is the data linearly separable?"
   ]
  },
  {
   "cell_type": "markdown",
   "metadata": {
    "id": "kBiV7fKupbYG"
   },
   "source": [
    "Yes. Try $w=(0, 1)$ and $b=-0.8$ and observe the accuracy."
   ]
  },
  {
   "cell_type": "code",
   "execution_count": 17,
   "metadata": {},
   "outputs": [
    {
     "name": "stdout",
     "output_type": "stream",
     "text": [
      "Train accuracy: 100.0\n"
     ]
    }
   ],
   "source": [
    "w = np.array([0, 1])\n",
    "b = -0.8\n",
    "model = LinearBinaryClassification(w, b)\n",
    "\n",
    "print(f\"Train accuracy: {accuracy(model(train_X),train_Y)}\")"
   ]
  },
  {
   "cell_type": "code",
   "execution_count": 18,
   "metadata": {},
   "outputs": [
    {
     "data": {
      "text/plain": [
       "<matplotlib.legend.Legend at 0x10ef2b9d0>"
      ]
     },
     "execution_count": 18,
     "metadata": {},
     "output_type": "execute_result"
    },
    {
     "data": {
      "image/png": "[encoded data removed]",
      "text/plain": [
       "<Figure size 640x480 with 1 Axes>"
      ]
     },
     "metadata": {},
     "output_type": "display_data"
    }
   ],
   "source": [
    "h_grid = model(X_list)\n",
    "\n",
    "cmap = matplotlib.colors.ListedColormap(['red', 'blue'])\n",
    "plt.contourf(x1_grid, x2_grid, h_grid, cmap=cmap, alpha=.3)\n",
    "\n",
    "plt.scatter(train_X_minus1[:, 0], train_X_minus1[:, 1], marker='x', color='red', label='Train: Iris-setosa', alpha=.7)\n",
    "plt.scatter(train_X_plus1[:, 0], train_X_plus1[:, 1], marker='x', color='blue', label='Train: other', alpha=.7)\n",
    "\n",
    "plt.scatter(test_X_minus1[:, 0], test_X_minus1[:, 1], marker='.', color='red', label='Test: Iris-setosa', alpha=.7)\n",
    "plt.scatter(test_X_plus1[:, 0], test_X_plus1[:, 1], marker='.', color='blue', label='Test: other', alpha=.7)\n",
    "\n",
    "plt.xlabel('sepal length [cm]')\n",
    "plt.xlim(x1_min, x1_max)\n",
    "plt.ylabel('petal width [cm]')\n",
    "plt.ylim(x2_min, x2_max)\n",
    "plt.legend()"
   ]
  },
  {
   "cell_type": "markdown",
   "metadata": {},
   "source": [
    "## Exercise: Ordinary least squares classifier\n",
    "\n",
    "Implement an Ordinary Least Squares (OLS) classifier class as a **child class** of `LinearBinaryClassification`.\n",
    "\n",
    "The class should contain a method `fit(X,Y)`, which fits the parameters of the linear classifier using the theoretical solutions of the OLS problem.\n",
    "\n",
    "Test your method on the Iris data."
   ]
  }
 ],
 "metadata": {
  "colab": {
   "name": "SS21-MsAML__02-X2__Preparation_of_Python_tools_for_linear_classification_SOL.ipynb",
   "provenance": []
  },
  "kernelspec": {
   "display_name": "applied_ml",
   "language": "python",
   "name": "python3"
  },
  "language_info": {
   "codemirror_mode": {
    "name": "ipython",
    "version": 3
   },
   "file_extension": ".py",
   "mimetype": "text/x-python",
   "name": "python",
   "nbconvert_exporter": "python",
   "pygments_lexer": "ipython3",
   "version": "3.13.2"
  }
 },
 "nbformat": 4,
 "nbformat_minor": 1
}
