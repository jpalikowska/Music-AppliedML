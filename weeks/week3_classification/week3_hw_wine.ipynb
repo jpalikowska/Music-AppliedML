{
 "cells": [
  {
   "cell_type": "markdown",
   "metadata": {},
   "source": [
    "© [Mariia Seleznova](https://www.ai.math.uni-muenchen.de/members/postdocs/mariia-seleznova/index.html), 2025. [CC BY 4.0](https://creativecommons.org/licenses/by/4.0/)."
   ]
  },
  {
   "cell_type": "markdown",
   "metadata": {},
   "source": [
    "# 🍷 Homework 3 — Wine classification\n",
    "\n",
    "The goal of this task is to classify wine based on the chemical analysis data using **Ordinary Least Squares (OLS)**. \n",
    "\n",
    "This notebook follows the same steps as the lecture notebook."
   ]
  },
  {
   "cell_type": "code",
   "execution_count": 1,
   "metadata": {
    "id": "cwpGchmhpbXm"
   },
   "outputs": [],
   "source": [
    "import os\n",
    "\n",
    "import numpy as np\n",
    "import pandas as pd\n",
    "\n",
    "import matplotlib\n",
    "import matplotlib.pyplot as plt"
   ]
  },
  {
   "cell_type": "markdown",
   "metadata": {
    "id": "fXE20wc7pbXk"
   },
   "source": [
    "## Load the data"
   ]
  },
  {
   "cell_type": "code",
   "execution_count": 2,
   "metadata": {
    "colab": {
     "base_uri": "https://localhost:8080/"
    },
    "id": "9ZnwqiWcpbXn",
    "outputId": "f95780f7-2a40-4756-bf7c-4bb822d52c34"
   },
   "outputs": [
    {
     "name": "stdout",
     "output_type": "stream",
     "text": [
      "Loading data from local file `wine.csv`...\n"
     ]
    }
   ],
   "source": [
    "file_name = 'wine.csv'\n",
    "url = 'https://archive.ics.uci.edu/ml/machine-learning-databases/wine/wine.data'\n",
    "column_names = ['Class','Alcohol', 'Malic acid','Ash', 'Alcalinity of ash', 'Magnesium',\n",
    "               'Total phenols', 'Flavanoids', 'Nonflavanoid phenols', 'Proanthocyanins', \n",
    "                'Color intensity', 'Hue', 'OD280/OD315 of diluted wines', 'Proline']\n",
    "\n",
    "if os.path.exists(file_name):\n",
    "    print(f'Loading data from local file `{file_name}`...')\n",
    "    df = pd.read_csv(file_name, index_col=0)\n",
    "else:\n",
    "    print(f'Loading data from `{url}`...')\n",
    "    df = pd.read_csv(url, names=column_names)\n",
    "    df.to_csv(file_name)\n",
    "    print('Done.')"
   ]
  },
  {
   "cell_type": "code",
   "execution_count": 3,
   "metadata": {
    "colab": {
     "base_uri": "https://localhost:8080/",
     "height": 419
    },
    "id": "dzyRqQqapbXq",
    "outputId": "e515b252-cdc4-49c5-b414-bd4342b9930e"
   },
   "outputs": [
    {
     "data": {
      "text/html": [
       "<div>\n",
       "<style scoped>\n",
       "    .dataframe tbody tr th:only-of-type {\n",
       "        vertical-align: middle;\n",
       "    }\n",
       "\n",
       "    .dataframe tbody tr th {\n",
       "        vertical-align: top;\n",
       "    }\n",
       "\n",
       "    .dataframe thead th {\n",
       "        text-align: right;\n",
       "    }\n",
       "</style>\n",
       "<table border=\"1\" class=\"dataframe\">\n",
       "  <thead>\n",
       "    <tr style=\"text-align: right;\">\n",
       "      <th></th>\n",
       "      <th>Class</th>\n",
       "      <th>Alcohol</th>\n",
       "      <th>Malic acid</th>\n",
       "      <th>Ash</th>\n",
       "      <th>Alcalinity of ash</th>\n",
       "      <th>Magnesium</th>\n",
       "      <th>Total phenols</th>\n",
       "      <th>Flavanoids</th>\n",
       "      <th>Nonflavanoid phenols</th>\n",
       "      <th>Proanthocyanins</th>\n",
       "      <th>Color intensity</th>\n",
       "      <th>Hue</th>\n",
       "      <th>OD280/OD315 of diluted wines</th>\n",
       "      <th>Proline</th>\n",
       "    </tr>\n",
       "  </thead>\n",
       "  <tbody>\n",
       "    <tr>\n",
       "      <th>0</th>\n",
       "      <td>1</td>\n",
       "      <td>14.23</td>\n",
       "      <td>1.71</td>\n",
       "      <td>2.43</td>\n",
       "      <td>15.6</td>\n",
       "      <td>127</td>\n",
       "      <td>2.80</td>\n",
       "      <td>3.06</td>\n",
       "      <td>0.28</td>\n",
       "      <td>2.29</td>\n",
       "      <td>5.64</td>\n",
       "      <td>1.04</td>\n",
       "      <td>3.92</td>\n",
       "      <td>1065</td>\n",
       "    </tr>\n",
       "    <tr>\n",
       "      <th>1</th>\n",
       "      <td>1</td>\n",
       "      <td>13.20</td>\n",
       "      <td>1.78</td>\n",
       "      <td>2.14</td>\n",
       "      <td>11.2</td>\n",
       "      <td>100</td>\n",
       "      <td>2.65</td>\n",
       "      <td>2.76</td>\n",
       "      <td>0.26</td>\n",
       "      <td>1.28</td>\n",
       "      <td>4.38</td>\n",
       "      <td>1.05</td>\n",
       "      <td>3.40</td>\n",
       "      <td>1050</td>\n",
       "    </tr>\n",
       "    <tr>\n",
       "      <th>2</th>\n",
       "      <td>1</td>\n",
       "      <td>13.16</td>\n",
       "      <td>2.36</td>\n",
       "      <td>2.67</td>\n",
       "      <td>18.6</td>\n",
       "      <td>101</td>\n",
       "      <td>2.80</td>\n",
       "      <td>3.24</td>\n",
       "      <td>0.30</td>\n",
       "      <td>2.81</td>\n",
       "      <td>5.68</td>\n",
       "      <td>1.03</td>\n",
       "      <td>3.17</td>\n",
       "      <td>1185</td>\n",
       "    </tr>\n",
       "    <tr>\n",
       "      <th>3</th>\n",
       "      <td>1</td>\n",
       "      <td>14.37</td>\n",
       "      <td>1.95</td>\n",
       "      <td>2.50</td>\n",
       "      <td>16.8</td>\n",
       "      <td>113</td>\n",
       "      <td>3.85</td>\n",
       "      <td>3.49</td>\n",
       "      <td>0.24</td>\n",
       "      <td>2.18</td>\n",
       "      <td>7.80</td>\n",
       "      <td>0.86</td>\n",
       "      <td>3.45</td>\n",
       "      <td>1480</td>\n",
       "    </tr>\n",
       "    <tr>\n",
       "      <th>4</th>\n",
       "      <td>1</td>\n",
       "      <td>13.24</td>\n",
       "      <td>2.59</td>\n",
       "      <td>2.87</td>\n",
       "      <td>21.0</td>\n",
       "      <td>118</td>\n",
       "      <td>2.80</td>\n",
       "      <td>2.69</td>\n",
       "      <td>0.39</td>\n",
       "      <td>1.82</td>\n",
       "      <td>4.32</td>\n",
       "      <td>1.04</td>\n",
       "      <td>2.93</td>\n",
       "      <td>735</td>\n",
       "    </tr>\n",
       "    <tr>\n",
       "      <th>...</th>\n",
       "      <td>...</td>\n",
       "      <td>...</td>\n",
       "      <td>...</td>\n",
       "      <td>...</td>\n",
       "      <td>...</td>\n",
       "      <td>...</td>\n",
       "      <td>...</td>\n",
       "      <td>...</td>\n",
       "      <td>...</td>\n",
       "      <td>...</td>\n",
       "      <td>...</td>\n",
       "      <td>...</td>\n",
       "      <td>...</td>\n",
       "      <td>...</td>\n",
       "    </tr>\n",
       "    <tr>\n",
       "      <th>173</th>\n",
       "      <td>3</td>\n",
       "      <td>13.71</td>\n",
       "      <td>5.65</td>\n",
       "      <td>2.45</td>\n",
       "      <td>20.5</td>\n",
       "      <td>95</td>\n",
       "      <td>1.68</td>\n",
       "      <td>0.61</td>\n",
       "      <td>0.52</td>\n",
       "      <td>1.06</td>\n",
       "      <td>7.70</td>\n",
       "      <td>0.64</td>\n",
       "      <td>1.74</td>\n",
       "      <td>740</td>\n",
       "    </tr>\n",
       "    <tr>\n",
       "      <th>174</th>\n",
       "      <td>3</td>\n",
       "      <td>13.40</td>\n",
       "      <td>3.91</td>\n",
       "      <td>2.48</td>\n",
       "      <td>23.0</td>\n",
       "      <td>102</td>\n",
       "      <td>1.80</td>\n",
       "      <td>0.75</td>\n",
       "      <td>0.43</td>\n",
       "      <td>1.41</td>\n",
       "      <td>7.30</td>\n",
       "      <td>0.70</td>\n",
       "      <td>1.56</td>\n",
       "      <td>750</td>\n",
       "    </tr>\n",
       "    <tr>\n",
       "      <th>175</th>\n",
       "      <td>3</td>\n",
       "      <td>13.27</td>\n",
       "      <td>4.28</td>\n",
       "      <td>2.26</td>\n",
       "      <td>20.0</td>\n",
       "      <td>120</td>\n",
       "      <td>1.59</td>\n",
       "      <td>0.69</td>\n",
       "      <td>0.43</td>\n",
       "      <td>1.35</td>\n",
       "      <td>10.20</td>\n",
       "      <td>0.59</td>\n",
       "      <td>1.56</td>\n",
       "      <td>835</td>\n",
       "    </tr>\n",
       "    <tr>\n",
       "      <th>176</th>\n",
       "      <td>3</td>\n",
       "      <td>13.17</td>\n",
       "      <td>2.59</td>\n",
       "      <td>2.37</td>\n",
       "      <td>20.0</td>\n",
       "      <td>120</td>\n",
       "      <td>1.65</td>\n",
       "      <td>0.68</td>\n",
       "      <td>0.53</td>\n",
       "      <td>1.46</td>\n",
       "      <td>9.30</td>\n",
       "      <td>0.60</td>\n",
       "      <td>1.62</td>\n",
       "      <td>840</td>\n",
       "    </tr>\n",
       "    <tr>\n",
       "      <th>177</th>\n",
       "      <td>3</td>\n",
       "      <td>14.13</td>\n",
       "      <td>4.10</td>\n",
       "      <td>2.74</td>\n",
       "      <td>24.5</td>\n",
       "      <td>96</td>\n",
       "      <td>2.05</td>\n",
       "      <td>0.76</td>\n",
       "      <td>0.56</td>\n",
       "      <td>1.35</td>\n",
       "      <td>9.20</td>\n",
       "      <td>0.61</td>\n",
       "      <td>1.60</td>\n",
       "      <td>560</td>\n",
       "    </tr>\n",
       "  </tbody>\n",
       "</table>\n",
       "<p>178 rows × 14 columns</p>\n",
       "</div>"
      ],
      "text/plain": [
       "     Class  Alcohol  Malic acid   Ash  Alcalinity of ash  Magnesium  \\\n",
       "0        1    14.23        1.71  2.43               15.6        127   \n",
       "1        1    13.20        1.78  2.14               11.2        100   \n",
       "2        1    13.16        2.36  2.67               18.6        101   \n",
       "3        1    14.37        1.95  2.50               16.8        113   \n",
       "4        1    13.24        2.59  2.87               21.0        118   \n",
       "..     ...      ...         ...   ...                ...        ...   \n",
       "173      3    13.71        5.65  2.45               20.5         95   \n",
       "174      3    13.40        3.91  2.48               23.0        102   \n",
       "175      3    13.27        4.28  2.26               20.0        120   \n",
       "176      3    13.17        2.59  2.37               20.0        120   \n",
       "177      3    14.13        4.10  2.74               24.5         96   \n",
       "\n",
       "     Total phenols  Flavanoids  Nonflavanoid phenols  Proanthocyanins  \\\n",
       "0             2.80        3.06                  0.28             2.29   \n",
       "1             2.65        2.76                  0.26             1.28   \n",
       "2             2.80        3.24                  0.30             2.81   \n",
       "3             3.85        3.49                  0.24             2.18   \n",
       "4             2.80        2.69                  0.39             1.82   \n",
       "..             ...         ...                   ...              ...   \n",
       "173           1.68        0.61                  0.52             1.06   \n",
       "174           1.80        0.75                  0.43             1.41   \n",
       "175           1.59        0.69                  0.43             1.35   \n",
       "176           1.65        0.68                  0.53             1.46   \n",
       "177           2.05        0.76                  0.56             1.35   \n",
       "\n",
       "     Color intensity   Hue  OD280/OD315 of diluted wines  Proline  \n",
       "0               5.64  1.04                          3.92     1065  \n",
       "1               4.38  1.05                          3.40     1050  \n",
       "2               5.68  1.03                          3.17     1185  \n",
       "3               7.80  0.86                          3.45     1480  \n",
       "4               4.32  1.04                          2.93      735  \n",
       "..               ...   ...                           ...      ...  \n",
       "173             7.70  0.64                          1.74      740  \n",
       "174             7.30  0.70                          1.56      750  \n",
       "175            10.20  0.59                          1.56      835  \n",
       "176             9.30  0.60                          1.62      840  \n",
       "177             9.20  0.61                          1.60      560  \n",
       "\n",
       "[178 rows x 14 columns]"
      ]
     },
     "execution_count": 3,
     "metadata": {},
     "output_type": "execute_result"
    }
   ],
   "source": [
    "df"
   ]
  },
  {
   "cell_type": "markdown",
   "metadata": {
    "id": "Uq8YHQm2pbXr"
   },
   "source": [
    "## Assign class labels"
   ]
  },
  {
   "cell_type": "markdown",
   "metadata": {},
   "source": [
    "There are three classes with labels $1$, $2$ and $3$ in the Wine dataset. We discard class $3$ and relabel the remaining two classes as $1$ and $-1$ to be consistent with our binary classification setup."
   ]
  },
  {
   "cell_type": "code",
   "execution_count": 4,
   "metadata": {
    "id": "tVId1yITpbXs"
   },
   "outputs": [
    {
     "name": "stderr",
     "output_type": "stream",
     "text": [
      "/var/folders/9v/zb2h9_ys5yz0c88dl39lnxbh0000gn/T/ipykernel_35464/4116609049.py:2: SettingWithCopyWarning: \n",
      "A value is trying to be set on a copy of a slice from a DataFrame.\n",
      "Try using .loc[row_indexer,col_indexer] = value instead\n",
      "\n",
      "See the caveats in the documentation: https://pandas.pydata.org/pandas-docs/stable/user_guide/indexing.html#returning-a-view-versus-a-copy\n",
      "  df['Class'] = df['Class'].replace([1,2],[1,-1])\n"
     ]
    }
   ],
   "source": [
    "df = df[df['Class']!=3]\n",
    "df['Class'] = df['Class'].replace([1,2],[1,-1])"
   ]
  },
  {
   "cell_type": "markdown",
   "metadata": {
    "id": "vmBEvEBApbXt"
   },
   "source": [
    "## Train-test split "
   ]
  },
  {
   "cell_type": "code",
   "execution_count": 5,
   "metadata": {
    "id": "BMNuTiuJpbXv",
    "lines_to_next_cell": 2
   },
   "outputs": [],
   "source": [
    "def  train_test_split(df, training_data_fraction, shuffle=True):\n",
    "    \"\"\"\n",
    "    Split all available data into a training and test data set.\n",
    "    \n",
    "    Parameters:\n",
    "    -----------\n",
    "    df : DataFrame\n",
    "        DataFrame of available data.\n",
    "\n",
    "    training_data_fraction : float\n",
    "        The fraction of the data that should be used for training.\n",
    "        E.g., `training_data_fraction=0.6` means 60%.\n",
    "\n",
    "    shuffle : bool , optional\n",
    "        If True, randomly reshuffles the data before the split.\n",
    "\n",
    "    Returns:\n",
    "    -------\n",
    "    _df : DataFrame\n",
    "        Shuffled DataFrame\n",
    "\n",
    "    train_df: DataFrame\n",
    "        Train split\n",
    "        \n",
    "    test_df: DataFrame\n",
    "        Test split\n",
    "    \"\"\"\n",
    "    \n",
    "    if shuffle is True:\n",
    "        _df = df.sample(frac=1).reset_index(drop=True)\n",
    "    else:\n",
    "        _df= df\n",
    "    \n",
    "    train_df = _df.iloc[:round(training_data_fraction*len(_df)),:]\n",
    "    test_df = _df.iloc[round(training_data_fraction*len(_df)):,:]\n",
    "    \n",
    "    return _df, train_df, test_df"
   ]
  },
  {
   "cell_type": "markdown",
   "metadata": {},
   "source": [
    "We will first work with a two-dimensional projection of the data onto columns “Alcohol” and “Proline”."
   ]
  },
  {
   "cell_type": "code",
   "execution_count": 6,
   "metadata": {
    "colab": {
     "base_uri": "https://localhost:8080/"
    },
    "id": "eBrQzWGdpbXz",
    "outputId": "265e7cf3-aa08-4bf4-86e1-d9d42adb0e5c"
   },
   "outputs": [
    {
     "name": "stdout",
     "output_type": "stream",
     "text": [
      "Training data split as follows:\n",
      "  Training data samples: 104\n",
      "      Test data samples: 26\n"
     ]
    }
   ],
   "source": [
    "training_data_fraction = .8\n",
    "\n",
    "df, train_df, test_df =  train_test_split(df, training_data_fraction)\n",
    "\n",
    "# convert DataFrame entries to Numpy arrays\n",
    "# `X, Y`: all data\n",
    "# `train_X, train_Y`: training data\n",
    "# `test_X, test_Y`: training data\n",
    "\n",
    "X = df[['Alcohol', 'Proline']].to_numpy()\n",
    "Y = df['Class'].to_numpy()\n",
    "\n",
    "train_X = train_df[['Alcohol', 'Proline']].to_numpy()\n",
    "train_Y = train_df['Class'].to_numpy()\n",
    "\n",
    "test_X = test_df[['Alcohol', 'Proline']].to_numpy()\n",
    "test_Y = test_df['Class'].to_numpy()\n",
    "\n",
    "print('Training data split as follows:')\n",
    "print(f'  Training data samples: {len(train_df)}')\n",
    "print(f'      Test data samples: {len(test_df)}')"
   ]
  },
  {
   "cell_type": "markdown",
   "metadata": {
    "id": "c90epzCdpbX0"
   },
   "source": [
    "## Visualize 2d projection of the data"
   ]
  },
  {
   "cell_type": "code",
   "execution_count": 7,
   "metadata": {
    "colab": {
     "base_uri": "https://localhost:8080/",
     "height": 388
    },
    "id": "rrXGn_Q8pbX1",
    "outputId": "b453c336-c4b4-4a34-d852-6a8cbae45a6f"
   },
   "outputs": [
    {
     "data": {
      "text/plain": [
       "<matplotlib.legend.Legend at 0x1166741a0>"
      ]
     },
     "execution_count": 7,
     "metadata": {},
     "output_type": "execute_result"
    },
    {
     "data": {
      "image/png": "[encoded data removed]",
      "text/plain": [
       "<Figure size 640x480 with 1 Axes>"
      ]
     },
     "metadata": {},
     "output_type": "display_data"
    }
   ],
   "source": [
    "fig, ax = plt.subplots()\n",
    "\n",
    "train_X_minus1 = train_X[train_Y == -1]\n",
    "plt.scatter(train_X_minus1[:, 0], train_X_minus1[:, 1], marker='x', color='red', label='Train: Class -1')\n",
    "\n",
    "train_X_plus1 = train_X[train_Y == +1]\n",
    "plt.scatter(train_X_plus1[:, 0], train_X_plus1[:, 1], marker='x', color='blue', label='Train: Class +1')\n",
    "\n",
    "test_X_minus1 = test_X[test_Y == -1]\n",
    "test_X_plus1 = test_X[test_Y == +1]\n",
    "plt.scatter(test_X_minus1[:, 0], test_X_minus1[:, 1], marker='.', color='red', label='Test: Class -1', alpha=.7)\n",
    "plt.scatter(test_X_plus1[:, 0], test_X_plus1[:, 1], marker='.', color='blue', label='Test: Class +1', alpha=.7)\n",
    "\n",
    "plt.xlabel('Alcohol')\n",
    "plt.ylabel('Proline')\n",
    "plt.legend()"
   ]
  },
  {
   "cell_type": "markdown",
   "metadata": {
    "id": "6myunKukpbX2"
   },
   "source": [
    "## Define `OrdinaryLeastSquares` class"
   ]
  },
  {
   "cell_type": "markdown",
   "metadata": {
    "id": "VO6kTYdIpbX3"
   },
   "source": [
    "We define an OLS classifier as a child class of `LinearBinaryClassification`. \n",
    "\n",
    "`OrdinaryLeastSquares` inherits `__init__` and `__call__` methods without changes from its parent. Additionaly, this class has a method `fit`, which takes input data and sets the class attributes `w` and `b` to be the solution to the OLS problem."
   ]
  },
  {
   "cell_type": "markdown",
   "metadata": {},
   "source": [
    "<div style=\"border-left: 4px solid #007ACC; padding: 0.5em; background-color: #f0f8ff;\">\n",
    "<b>Theory:</b> The OLS problem is the following minimization problem:\n",
    "\n",
    "$$\\min_{w} \\|Xw - Y\\|^2_2.$$\n",
    "\n",
    "Assuming $X$ has full column rank, the theoretical solution to this problem is given by a well-known formula:\n",
    "\n",
    "$$w^* = (X^TX)^{-1}X^TY$$\n",
    "\n",
    "</div>\n",
    "\n",
    "💡 The above formula is for OLS **without intercept**, i.e. $b=0$, but we need to implement OLS **with intercept**. Our implementation solves this problem as follows:\n",
    "- Add a new column to $X$, which is populated by all ones:\n",
    "$$\\tilde X = [X, \\mathbf{1}] $$\n",
    "- Solve the OLS problem for $\\tilde X$.\n",
    "- Now $b$ is the last entry of the solution vector!\n"
   ]
  },
  {
   "cell_type": "code",
   "execution_count": 8,
   "metadata": {
    "id": "E2Dhm-FLpbX4"
   },
   "outputs": [],
   "source": [
    "class LinearBinaryClassification:\n",
    "    \"\"\"\n",
    "    Linear binary classification class.\n",
    "\n",
    "    Stores a linear classification model with parameters (w,b)\n",
    "    and decision function h(x) = sign(w @ x + b)\n",
    "\n",
    "    Parameters:\n",
    "    ----------\n",
    "    w: array\n",
    "    b: array\n",
    "\n",
    "    \"\"\"\n",
    "    def __init__(self, w, b):\n",
    "        self.w = w\n",
    "        self.b = b\n",
    "        \n",
    "    def __call__(self, x):\n",
    "        # Numpy's `where` function provides a fast substitution\n",
    "        return np.where(x @ self.w + self.b >= 0.0, 1, -1)\n",
    "    \n",
    "class OrdinaryLeastSquares(LinearBinaryClassification):\n",
    "    \"\"\"\n",
    "    Ordinary least squares classifier\n",
    "    \"\"\"\n",
    "\n",
    "    def fit(self, X,Y):\n",
    "        _X = np.hstack( (X, np.ones(shape=(X.shape[0],1))) )\n",
    "        ols_sol = np.linalg.inv(_X.T@_X)@_X.T@Y\n",
    "\n",
    "        self.w = ols_sol[:-1]\n",
    "        self.b = ols_sol[-1]"
   ]
  },
  {
   "cell_type": "markdown",
   "metadata": {
    "id": "EmaWqXWfpbX8"
   },
   "source": [
    "## Fit and evaluate OLS classifier"
   ]
  },
  {
   "cell_type": "code",
   "execution_count": 9,
   "metadata": {},
   "outputs": [],
   "source": [
    "w = np.array([0, 0])\n",
    "b = 0\n",
    "model = OrdinaryLeastSquares(w, b)\n",
    "\n",
    "model.fit(train_X,train_Y)"
   ]
  },
  {
   "cell_type": "code",
   "execution_count": 10,
   "metadata": {
    "colab": {
     "base_uri": "https://localhost:8080/",
     "height": 388
    },
    "id": "CP9AkKsbpbX9",
    "lines_to_next_cell": 2,
    "outputId": "e12be360-cc2c-4011-a7d8-b8427b1b7a6d"
   },
   "outputs": [
    {
     "data": {
      "text/plain": [
       "<matplotlib.legend.Legend at 0x11674fb10>"
      ]
     },
     "execution_count": 10,
     "metadata": {},
     "output_type": "execute_result"
    },
    {
     "data": {
      "image/png": "[encoded data removed]",
      "text/plain": [
       "<Figure size 640x480 with 1 Axes>"
      ]
     },
     "metadata": {},
     "output_type": "display_data"
    }
   ],
   "source": [
    "fig, ax = plt.subplots()\n",
    "\n",
    "# compute how large the mesh for the contour plot shall be (with +/- 1 as\n",
    "# safety bleed)\n",
    "x1_min = train_X[:, 0].min() - 1\n",
    "x1_max = train_X[:, 0].max() + 1\n",
    "x2_min = train_X[:, 1].min() - 100\n",
    "x2_max = train_X[:, 1].max() + 100\n",
    "\n",
    "# compute grid for contour plot\n",
    "x1_list, x2_list = np.meshgrid(np.arange(x1_min, x1_max, .01), \n",
    "                               np.arange(x2_min, x2_max, .5))\n",
    "# meshgrid produces two arrays of the size `len(np.arange(x1_min, x1_max,\n",
    "# .01))` times `len(np.arange(x2_min, x2_max, .01))` so that computations can\n",
    "# be easily be vectorized.\n",
    "X_list = np.dstack([x1_list, x2_list])\n",
    "# present X_list to our hypothesis for evaluation\n",
    "h_list = model(X_list)\n",
    "\n",
    "cmap = matplotlib.colors.ListedColormap(['red', 'blue'])\n",
    "plt.contourf(x1_list, x2_list, h_list, cmap=cmap, alpha=.3)\n",
    "\n",
    "plt.scatter(train_X_minus1[:, 0], train_X_minus1[:, 1], marker='x', color='red', label='Train: Iris-setosa', alpha=.7)\n",
    "plt.scatter(train_X_plus1[:, 0], train_X_plus1[:, 1], marker='x', color='blue', label='Train: other', alpha=.7)\n",
    "\n",
    "plt.scatter(test_X_minus1[:, 0], test_X_minus1[:, 1], marker='.', color='red', label='Test: Iris-setosa', alpha=.7)\n",
    "plt.scatter(test_X_plus1[:, 0], test_X_plus1[:, 1], marker='.', color='blue', label='Test: other', alpha=.7)\n",
    "\n",
    "plt.xlabel('Alcohol')\n",
    "plt.xlim(x1_min, x1_max)\n",
    "plt.ylabel('Proline')\n",
    "plt.ylim(x2_min, x2_max)\n",
    "plt.legend()"
   ]
  },
  {
   "cell_type": "code",
   "execution_count": 11,
   "metadata": {
    "colab": {
     "base_uri": "https://localhost:8080/"
    },
    "id": "W-cu-KF4pbX_",
    "outputId": "bedba136-5c7d-48f5-dc40-f19126e00fa3"
   },
   "outputs": [
    {
     "name": "stdout",
     "output_type": "stream",
     "text": [
      "Train accuracy: 96.15%\n",
      "Test accuracy: 96.15%\n"
     ]
    }
   ],
   "source": [
    "def accuracy(y_pred,y_true):\n",
    "    return (np.sum(y_pred == y_true)/y_true.size)*100\n",
    "\n",
    "print(f\"Train accuracy: {round(accuracy(model(train_X),train_Y),2)}%\")\n",
    "print(f\"Test accuracy: {round(accuracy(model(test_X),test_Y),2)}%\")"
   ]
  },
  {
   "cell_type": "markdown",
   "metadata": {},
   "source": [
    "We see that the are classification errors. Therefore, the data is not linearly separable in the two-dimensional projection - otherwise, OLS method would give a parfect solution!"
   ]
  },
  {
   "cell_type": "markdown",
   "metadata": {
    "id": "EdyBBnvkpbYF"
   },
   "source": [
    "## Is the data linearly separable?"
   ]
  },
  {
   "cell_type": "markdown",
   "metadata": {},
   "source": [
    "We perform OLS on the complete 13-dimensional problem."
   ]
  },
  {
   "cell_type": "code",
   "execution_count": 12,
   "metadata": {},
   "outputs": [
    {
     "data": {
      "text/plain": [
       "(130, 13)"
      ]
     },
     "execution_count": 12,
     "metadata": {},
     "output_type": "execute_result"
    }
   ],
   "source": [
    "X = df.iloc[:,df.columns != 'Class'].to_numpy()\n",
    "Y = df.iloc[:,df.columns == 'Class'].to_numpy()\n",
    "\n",
    "X.shape"
   ]
  },
  {
   "cell_type": "markdown",
   "metadata": {},
   "source": [
    "The model has 14 variables now:"
   ]
  },
  {
   "cell_type": "code",
   "execution_count": 13,
   "metadata": {},
   "outputs": [],
   "source": [
    "model = w = np.array([0]*13)\n",
    "b = 0\n",
    "\n",
    "model = OrdinaryLeastSquares(w, b)\n",
    "model.fit(X,Y)"
   ]
  },
  {
   "cell_type": "code",
   "execution_count": 14,
   "metadata": {},
   "outputs": [
    {
     "name": "stdout",
     "output_type": "stream",
     "text": [
      "Train accuracy: 100.0%\n"
     ]
    }
   ],
   "source": [
    "print(f\"Train accuracy: {round(accuracy(model(X),Y),2)}%\")"
   ]
  },
  {
   "cell_type": "markdown",
   "metadata": {},
   "source": [
    "We calculate the total number of errors and see that the model classifies the data perfectly. Therefore, the data is linearly separable!"
   ]
  }
 ],
 "metadata": {
  "kernelspec": {
   "display_name": "applied_ml",
   "language": "python",
   "name": "python3"
  },
  "language_info": {
   "codemirror_mode": {
    "name": "ipython",
    "version": 3
   },
   "file_extension": ".py",
   "mimetype": "text/x-python",
   "name": "python",
   "nbconvert_exporter": "python",
   "pygments_lexer": "ipython3",
   "version": "3.13.2"
  }
 },
 "nbformat": 4,
 "nbformat_minor": 4
}
