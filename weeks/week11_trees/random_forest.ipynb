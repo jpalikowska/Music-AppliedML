{
 "cells": [
  {
   "cell_type": "markdown",
   "id": "0cca27c6",
   "metadata": {},
   "source": [
    "# 🌲 From Trees to Forests\n",
    "\n",
    "In the previous notebook, we saw that decision trees can easily overfit if allowed to grow deep. Although they are flexible and interpretable, they are also **unstable**: small changes in data can lead to very different trees.\n",
    "\n",
    "In this notebook, we introduce **ensemble methods** — techniques that combine multiple models to improve prediction performance and robustness.\n",
    "\n",
    "We'll focus on:\n",
    "- 🧃 **Bagging**: Averaging multiple trees (or other ML models) trained on resampled data to reduce variance\n",
    "- 🌳 **Random Forests**: An extension of bagging that further improves performance by reducing correlation between trees\n",
    "\n",
    "We'll see how simple modifications to the decision tree setup can lead to **state-of-the-art performance** with no need for gradient descent or deep networks.\n"
   ]
  },
  {
   "cell_type": "markdown",
   "id": "66091286",
   "metadata": {},
   "source": [
    "## 🌿 Bagging: Bootstrap Aggregating\n",
    "\n",
    "**Bagging** (short for *Bootstrap Aggregating*) is a powerful ensemble method that improves prediction accuracy by reducing the **variance** of high-variance models like decision trees.\n",
    "\n",
    "### 🔁 The Idea\n",
    "\n",
    "Instead of training a single model on the entire dataset, bagging trains **multiple models** on **bootstrapped subsets** of the training data. A *bootstrap sample* is a dataset of the same size as the original, drawn **with replacement**, so some points may repeat and others may be omitted.\n",
    "\n",
    "Each model is trained independently, and their predictions are then **averaged** (for regression) or **voted** (for classification).\n",
    "\n",
    "> ### 📦 Bootstrap Sampling\n",
    "> \n",
    "> Let the original dataset be:\n",
    "> \n",
    "> $$\n",
    "> \\mathcal{D} = \\{(x_1, y_1), (x_2, y_2), \\dots, (x_N, y_N)\\}\n",
    "> $$\n",
    "> \n",
    "> A bootstrap sample $ \\mathcal{D}^* $ is constructed by sampling $ N $ times **with replacement** from $ \\mathcal{D} $:\n",
    "> \n",
    "> $$\n",
    "> \\mathcal{D}^* = \\{(x_{i_1}, y_{i_1}), (x_{i_2}, y_{i_2}), \\dots, (x_{i_N}, y_{i_N})\\}, \\quad i_j \\sim \\text{Uniform}\\{1, \\dots, N\\}\n",
    "> $$\n",
    "> \n",
    ">\n",
    "\n",
    "Each data point has a chance to appear multiple times or not at all in $ \\mathcal{D}^* $.  \n",
    "In fact, the probability that a given point is **not selected at all** is approximately:\n",
    "\n",
    "$$\n",
    "\\left(1 - \\frac{1}{N} \\right)^N \\approx e^{-1} \\approx 0.368\n",
    "$$\n",
    "\n",
    "So on average, **36.8% of the original data is left out** of each bootstrap sample.\n",
    "\n",
    "\n",
    "> ### 🗳️ Bagged Classifier (Voting)\n",
    ">\n",
    "> Given $B$ classifiers $f_1, f_2, \\dots, f_B$ trained on bootstrap samples $\\mathcal{D}_1, \\dots, \\mathcal{D}_B$, the **bagged classifier** makes predictions by majority vote:\n",
    ">\n",
    "> $$\n",
    "> \\hat{f}_{\\text{bag}}(x) = \\mathrm{mode} \\left( \\{ f_b(x) \\}_{b=1}^B \\right)\n",
    "> $$\n",
    "> \n",
    "> That is, the predicted class $\\hat{f}_{\\text{bag}}(x)$ is the one most frequently predicted by the individual models.\n",
    ">\n",
    "> For regression tasks, bagging uses averaging instead:\n",
    "> $$\n",
    "> \\hat{f}_{\\text{bag}}(x) = \\frac{1}{B} \\sum_{b=1}^B f_b(x)\n",
    "> $$\n",
    ">\n",
    "\n",
    "\n",
    "### 📉 Variance Reduction\n",
    "\n",
    "The main goal goal of bagging is to reduce **variance** — the part of generalization error caused by the model's sensitivity to small changes in the training data. In the **regression case**, it is easy to see how bagging achieves this. \n",
    "\n",
    "Suppose the variance of a single classifier is \n",
    "$$\n",
    "  \\text{Var}[\\hat{f}_{b}(x)] = \\sigma^2, \\quad b=1, \\dots, B,\n",
    "$$\n",
    "then the variance of the bagged predictor is:\n",
    "\n",
    "\n",
    "- With independent models:  \n",
    "  $$\n",
    "  \\text{Var}[\\hat{f}_{\\text{bag}}(x)] = \\frac{\\sigma^2}{B}\n",
    "  $$\n",
    "\n",
    "- With correlated models (more realistic):  \n",
    "  $$\n",
    "  \\text{Var}[\\hat{f}_{\\text{bag}}(x)] = \\rho \\sigma^2 + \\frac{1 - \\rho}{B} \\sigma^2,\n",
    "  $$\n",
    "    where $\\rho $ is the average correlation between models\n",
    "\n",
    "As long as the base models are not fully correlated, bagging will reduce variance and improve generalization.\n",
    "\n",
    "> For **classification case**, it's a bit harder to write variance formulas. However, bagging still imporves stability and generalization in practice. "
   ]
  },
  {
   "cell_type": "markdown",
   "id": "193b544f",
   "metadata": {},
   "source": [
    "### 🛠️ Implementation of Bagged Classifier\n",
    "\n",
    "We implement a general-purpose `BaggedClassifier` that ensembles any given base classifier using bagging.\n",
    "\n",
    "The implementation structure is simple:\n",
    "- Train multiple copies of the base model, each on a **bootstrapped sample** of the training set.\n",
    "- During prediction, the individual models vote, and the final prediction is made by **majority vote**."
   ]
  },
  {
   "cell_type": "code",
   "execution_count": 1,
   "id": "c733f77e",
   "metadata": {},
   "outputs": [],
   "source": [
    "%load_ext autoreload\n",
    "%autoreload 2\n",
    "\n",
    "import numpy as np\n",
    "import matplotlib\n",
    "import matplotlib.pyplot as plt\n",
    "import sys\n",
    "import os\n",
    "import tqdm \n",
    "\n",
    "# Add the repo root (two levels up from this notebook) to sys.path\n",
    "sys.path.insert(0, os.path.abspath(\"../../\"))"
   ]
  },
  {
   "cell_type": "code",
   "execution_count": 2,
   "id": "ed3d544d",
   "metadata": {},
   "outputs": [],
   "source": [
    "class BaggedClassifier:\n",
    "    def __init__(self, base_model_class, n_estimators=10, **model_kwargs):\n",
    "        \"\"\"\n",
    "        Parameters:\n",
    "        - base_model_class: class of the model to bag (e.g. DecisionTreeClassifier)\n",
    "        - n_estimators: number of base models\n",
    "        - model_kwargs: arguments passed to each base model\n",
    "        \"\"\"\n",
    "        self.base_model_class = base_model_class\n",
    "        self.n_estimators = n_estimators\n",
    "        self.model_kwargs = model_kwargs\n",
    "        self.models = []\n",
    "\n",
    "    def fit(self, X, y):\n",
    "        self.models = []\n",
    "        n_samples = len(X)\n",
    "        for _ in range(self.n_estimators):\n",
    "            # Bootstrap sampling\n",
    "            indices = np.random.choice(n_samples, size=n_samples, replace=True)\n",
    "            X_sample, y_sample = X[indices], y[indices]\n",
    "            # Create and fit a new model\n",
    "            model = self.base_model_class(**self.model_kwargs)\n",
    "            model.fit(X_sample, y_sample)\n",
    "            self.models.append(model)\n",
    "\n",
    "    def __call__(self, X):\n",
    "        all_preds = np.array([model(X) for model in self.models])\n",
    "        return np.apply_along_axis(self._majority_vote, axis=0, arr=all_preds)\n",
    "\n",
    "    def _majority_vote(self, predictions):\n",
    "        \"\"\"\n",
    "        Computes the most frequent class label in the predictions list.\n",
    "        \"\"\"\n",
    "        labels, counts = np.unique(predictions, return_counts=True)\n",
    "        return labels[np.argmax(counts)]"
   ]
  },
  {
   "cell_type": "markdown",
   "id": "d7129de3",
   "metadata": {},
   "source": [
    "### 🔠 Test on Letter Recognition Dataset\n",
    "\n",
    "We will test out `BaggedClassifier` on Letter Recognition Dataset using `DecisionTreeClassifier` as a base model."
   ]
  },
  {
   "cell_type": "code",
   "execution_count": 3,
   "id": "e6dd1e01",
   "metadata": {},
   "outputs": [
    {
     "name": "stdout",
     "output_type": "stream",
     "text": [
      "Loading from local `letter-recognition.data`...\n"
     ]
    }
   ],
   "source": [
    "from courselib.utils.loaders import load_digits\n",
    "from courselib.utils.splits import train_test_split\n",
    "from courselib.utils.preprocessing import labels_to_numbers\n",
    "\n",
    "df = load_digits()\n",
    "\n",
    "X, Y, X_train, Y_train, X_test, Y_test = train_test_split(df, 0.8, return_numpy=True, class_column_name='letter')\n",
    "class_names = np.unique(Y)\n",
    "Y = labels_to_numbers(Y, class_names)\n",
    "Y_train = labels_to_numbers(Y_train, class_names)\n",
    "Y_test = labels_to_numbers(Y_test, class_names)"
   ]
  },
  {
   "cell_type": "markdown",
   "id": "3ba138ec",
   "metadata": {},
   "source": [
    "#### Train and Evaluate"
   ]
  },
  {
   "cell_type": "code",
   "execution_count": 4,
   "id": "50eb5455",
   "metadata": {},
   "outputs": [
    {
     "name": "stdout",
     "output_type": "stream",
     "text": [
      "✅ Train Accuracy: 99.3062\n",
      "🧪 Test Accuracy:  91.8750\n"
     ]
    }
   ],
   "source": [
    "from courselib.models.tree import DecisionTreeClassifier\n",
    "from courselib.utils.metrics import accuracy\n",
    "\n",
    "model = BaggedClassifier(base_model_class=DecisionTreeClassifier, \n",
    "                         n_estimators=10, \n",
    "                         max_depth=20, \n",
    "                         min_samples_split=1)\n",
    "model.fit(X_train, Y_train)\n",
    "\n",
    "test_acc = accuracy(model(X_test), Y_test, one_hot_encoded_labels=False)\n",
    "train_acc = accuracy(model(X_train), Y_train, one_hot_encoded_labels=False)\n",
    "\n",
    "print(f\"✅ Train Accuracy: {train_acc:.4f}\")\n",
    "print(f\"🧪 Test Accuracy:  {test_acc:.4f}\")\n"
   ]
  },
  {
   "cell_type": "markdown",
   "id": "5ff826b3",
   "metadata": {},
   "source": [
    "#### 📈 Effects of the Ensemble Size\n",
    "\n",
    "We vary the number of estimators in the bagging ensemble to observe how ensemble size affects performance.  "
   ]
  },
  {
   "cell_type": "code",
   "execution_count": 5,
   "id": "4873844d",
   "metadata": {},
   "outputs": [
    {
     "name": "stderr",
     "output_type": "stream",
     "text": [
      "100%|██████████| 10/10 [12:10<00:00, 73.00s/it] \n"
     ]
    },
    {
     "data": {
      "image/png": "[encoded data removed]",
      "text/plain": [
       "<Figure size 640x480 with 1 Axes>"
      ]
     },
     "metadata": {},
     "output_type": "display_data"
    }
   ],
   "source": [
    "n_estimators_values = range(1, 51, 5)  # Values for number of estimators to evaluate\n",
    "train_scores = []\n",
    "test_scores = []\n",
    "\n",
    "depth = 20   \n",
    "for n_estimators in tqdm.tqdm(n_estimators_values):\n",
    "    model = BaggedClassifier(\n",
    "        base_model_class=DecisionTreeClassifier,\n",
    "        n_estimators=n_estimators,\n",
    "        max_depth=depth,\n",
    "        min_samples_split=1\n",
    "    )\n",
    "    model.fit(X_train, Y_train)\n",
    "\n",
    "    train_acc = accuracy(model(X_train), Y_train, one_hot_encoded_labels=False)\n",
    "    test_acc = accuracy(model(X_test), Y_test, one_hot_encoded_labels=False)\n",
    "\n",
    "    train_scores.append(train_acc)\n",
    "    test_scores.append(test_acc)\n",
    "\n",
    "# Plotting\n",
    "plt.plot(n_estimators_values, train_scores, marker='o', label='Train Accuracy')\n",
    "plt.plot(n_estimators_values, test_scores, marker='s', label='Test Accuracy')\n",
    "plt.xlabel('Number of Estimators')\n",
    "plt.ylabel('Accuracy')\n",
    "plt.title(f'Bagging Performance (Tree Depth = {depth})')\n",
    "plt.legend()\n",
    "plt.grid(True)\n",
    "plt.show()\n"
   ]
  },
  {
   "cell_type": "markdown",
   "id": "80108d33",
   "metadata": {},
   "source": [
    "We see that ensembling indeed improves performance significantly, especially as we go from a single tree to a small ensemble. "
   ]
  },
  {
   "cell_type": "markdown",
   "id": "88ef4da0",
   "metadata": {},
   "source": [
    "## 🌳 Random Forest: Decorrelated Bagging\n",
    "\n",
    "Bagging works well when the base models are high-variance and **somewhat diverse**. However, decision trees trained on bootstrap samples tend to be **highly correlated** because they all focus on the most informative features.\n",
    "\n",
    "**Random Forests** address this by adding a second source of randomness: at each split, they consider only a **random subset of features**. This reduces correlation $ \\rho $, making bagging even more effective.\n",
    "\n",
    "At each **split node** of each tree:\n",
    "- Instead of considering **all features**, only a **random subset of features** is considered for the split.\n",
    "- This prevents trees from always focusing on the most dominant features, encouraging **diverse splits** and reducing the **correlation** between trees.\n",
    "\n",
    "### 🛠️ Implementation\n",
    "\n",
    "To implement a random forest, we need to:\n",
    "\n",
    "1. Train $B$ decision trees, each on a **bootstrap sample** of the training data.\n",
    "2. While building each tree, modify the split-selection logic to:\n",
    "   - At each node, choose the **best split only among a random subset of features**.\n",
    "3. Use **majority vote** across all trees for prediction (classification)\n",
    "\n",
    "> Step 2 requires a small modification to our `DecisionTreeClassifier`: we need to pass the `max_features` parameter, which restricts how many  features are considered in each split. Then, we choose a random subset of features in `_best_split` method. We incorporate these changes  directly in `courselib.models.tree`.\n",
    "\n",
    "### ⚙️ Key Parameters\n",
    "\n",
    "- **Number of trees** ($B$): how many trees to include in the ensemble\n",
    "- **Max depth**: how deep each tree is allowed to grow\n",
    "- **Min samples split**: minimum number of samples required to split a node\n",
    "- **Max features per split** ($m$): how many features are randomly selected at each node  \n",
    "  Common choice for classification is $m = \\sqrt{d}$, where $d$ is the total number of features.\n",
    "\n",
    "> **Note:** While our implementation of bagging was general and admitted different base classifiers, Random Forest only works for trees as base models."
   ]
  },
  {
   "cell_type": "code",
   "execution_count": 6,
   "id": "81a30ed0",
   "metadata": {},
   "outputs": [],
   "source": [
    "class RandomForestClassifier:\n",
    "    def __init__(self, n_estimators=10, max_depth=5, min_samples_split=2, max_features=None):\n",
    "        \"\"\"\n",
    "        Random Forest as a bagged ensemble of decision trees with feature subsampling.\n",
    "\n",
    "        Parameters:\n",
    "        - n_estimators: number of trees\n",
    "        - max_depth: max depth of each tree\n",
    "        - min_samples_split: min number of samples to split\n",
    "        - max_features: number of features to consider at each split\n",
    "        \"\"\"\n",
    "        self.n_estimators = n_estimators\n",
    "        self.max_depth = max_depth\n",
    "        self.min_samples_split = min_samples_split\n",
    "        self.max_features = max_features\n",
    "        self.models = []\n",
    "\n",
    "    def fit(self, X, y):\n",
    "        self.models = []\n",
    "        n_samples = len(X)\n",
    "        for _ in range(self.n_estimators):\n",
    "            indices = np.random.choice(n_samples, size=n_samples, replace=True)\n",
    "            X_sample, y_sample = X[indices], y[indices]\n",
    "            tree = DecisionTreeClassifier(\n",
    "                max_depth=self.max_depth,\n",
    "                min_samples_split=self.min_samples_split,\n",
    "                max_features=self.max_features\n",
    "            )\n",
    "            tree.fit(X_sample, y_sample)\n",
    "            self.models.append(tree)\n",
    "\n",
    "    def __call__(self, X):\n",
    "        all_preds = np.array([model(X) for model in self.models])\n",
    "        return np.apply_along_axis(self._majority_vote, axis=0, arr=all_preds)\n",
    "\n",
    "    def _majority_vote(self, predictions):\n",
    "        labels, counts = np.unique(predictions, return_counts=True)\n",
    "        return labels[np.argmax(counts)]\n"
   ]
  },
  {
   "cell_type": "markdown",
   "id": "39f424bc",
   "metadata": {},
   "source": [
    "#### Train and Evaluate"
   ]
  },
  {
   "cell_type": "code",
   "execution_count": null,
   "id": "2c17e8bb",
   "metadata": {},
   "outputs": [
    {
     "name": "stdout",
     "output_type": "stream",
     "text": [
      "✅ Train Accuracy: 99.7125\n",
      "🧪 Test Accuracy:  92.9250\n"
     ]
    }
   ],
   "source": [
    "from courselib.utils.metrics import accuracy\n",
    "\n",
    "num_features = X_train.shape[1]\n",
    "\n",
    "model = RandomForestClassifier(n_estimators=10, \n",
    "                               max_depth=20, \n",
    "                               min_samples_split=1,\n",
    "                               max_features=int(np.sqrt(num_features)))\n",
    "model.fit(X_train, Y_train)\n",
    "\n",
    "test_acc = accuracy(model(X_test), Y_test, one_hot_encoded_labels=False)\n",
    "train_acc = accuracy(model(X_train), Y_train, one_hot_encoded_labels=False)\n",
    "\n",
    "print(f\"✅ Train Accuracy: {train_acc:.4f}\")\n",
    "print(f\"🧪 Test Accuracy:  {test_acc:.4f}\")\n"
   ]
  },
  {
   "cell_type": "markdown",
   "id": "c17e1fc3",
   "metadata": {},
   "source": [
    "#### 📉 Variance Reduction\n",
    "\n",
    "To demonstrate variance reduction, we repeat the analysis of prediction disagreement across models trained on slightly different data.\n",
    "\n",
    "Specifically, we train **10 Random Forest classifiers**, each on a different random subset of the training set. Then, we evaluate their predictions on a **shared test set** and compute, for each test sample, how often the classifiers disagree.\n",
    "\n",
    "Compared to single decision trees, we expect Random Forests to produce more stable predictions — i.e., lower disagreement across models.\n"
   ]
  },
  {
   "cell_type": "code",
   "execution_count": 9,
   "id": "b3bc4a39",
   "metadata": {},
   "outputs": [
    {
     "name": "stderr",
     "output_type": "stream",
     "text": [
      "100%|██████████| 10/10 [11:24<00:00, 68.43s/it]\n"
     ]
    },
    {
     "name": "stdout",
     "output_type": "stream",
     "text": [
      "Average disagreement across all samples: 0.2383\n"
     ]
    },
    {
     "data": {
      "image/png": "[encoded data removed]",
      "text/plain": [
       "<Figure size 640x480 with 1 Axes>"
      ]
     },
     "metadata": {},
     "output_type": "display_data"
    }
   ],
   "source": [
    "depth = 15\n",
    "predictions = []\n",
    "\n",
    "n_samples = X_train.shape[0]\n",
    "n_test_sampes = X_test.shape[0]\n",
    "\n",
    "for _ in tqdm.tqdm(range(10)):\n",
    "\n",
    "    # Randomly sample 80% of the training data for each run\n",
    "    indices = np.random.choice(n_samples, size=(n_samples)//5*4)\n",
    "    X_sample, Y_sample = X_train[indices], X_train[indices]\n",
    "\n",
    "    model = RandomForestClassifier(n_estimators=20, \n",
    "                                   max_depth=depth, \n",
    "                                   min_samples_split=1,\n",
    "                                   max_features=int(np.sqrt(num_features)))\n",
    "    model.fit(X_sample, Y_sample)\n",
    "\n",
    "    # Predict on the test set (not used in training in any run)\n",
    "    preds = model(X_test)\n",
    "    predictions.append(preds)\n",
    "\n",
    "predictions = np.array(predictions)  # shape: (n_runs, n_samples)\n",
    "\n",
    "def majority_vote(preds):\n",
    "    #Return the most common prediction\n",
    "    return np.bincount(preds).argmax()\n",
    "\n",
    "# Compute majority prediction per sample\n",
    "majority_preds = np.apply_along_axis(majority_vote, axis=0, arr=predictions)\n",
    "\n",
    "# Compute fraction of disagreeing trees for each sample\n",
    "disagreement = np.mean(predictions != majority_preds, axis=0)  # shape: (n_samples,)\n",
    "\n",
    "plt.bar(range(n_test_sampes), disagreement)\n",
    "plt.xlabel(\"Sample index\")\n",
    "plt.ylabel(\"Fraction of trees that disagree\")\n",
    "plt.title(\"Per-sample prediction disagreement across trees\")\n",
    "plt.ylim(0, 1)\n",
    "plt.grid(True)\n",
    "\n",
    "print(f\"Average disagreement across all samples: {np.mean(disagreement):.4f}\")"
   ]
  },
  {
   "cell_type": "markdown",
   "id": "93d2d8b1",
   "metadata": {},
   "source": [
    "Indeed, while some disagreement remains, ensembling 20 trees using a Random Forest reduces the **average disagreement** across models to around **20%**, compared to **40%** for individual decision trees."
   ]
  },
  {
   "cell_type": "markdown",
   "id": "0de43a9d",
   "metadata": {},
   "source": [
    "#### Joint Effects of Tree Depth and Ensemble Size\n",
    "\n",
    "We investigate how **tree depth** and **ensemble size** jointly affect the performance of a Random Forest."
   ]
  },
  {
   "cell_type": "code",
   "execution_count": 10,
   "id": "75b90c04",
   "metadata": {},
   "outputs": [
    {
     "name": "stderr",
     "output_type": "stream",
     "text": [
      "7it [04:35, 39.32s/it]\n"
     ]
    },
    {
     "data": {
      "image/png": "[encoded data removed]",
      "text/plain": [
       "<Figure size 1400x400 with 4 Axes>"
      ]
     },
     "metadata": {},
     "output_type": "display_data"
    }
   ],
   "source": [
    "depth_values = [2, 4, 6, 8, 10, 15, 20]\n",
    "n_estimators_values = [1, 5, 10, 20, 50]\n",
    "\n",
    "train_scores = np.zeros((len(depth_values), len(n_estimators_values)))\n",
    "test_scores = np.zeros((len(depth_values), len(n_estimators_values)))\n",
    "\n",
    "for i, depth in tqdm.tqdm(enumerate(depth_values)):\n",
    "    for j, n_estimators in enumerate(n_estimators_values):\n",
    "        model = RandomForestClassifier(\n",
    "                n_estimators=n_estimators,\n",
    "                max_depth=depth,\n",
    "                min_samples_split=1,\n",
    "                max_features=int(np.sqrt(num_features)))\n",
    "        model.fit(X_train, Y_train)\n",
    "\n",
    "        train_acc = accuracy(model(X_train), Y_train, one_hot_encoded_labels=False)\n",
    "        test_acc = accuracy(model(X_test), Y_test, one_hot_encoded_labels=False)\n",
    "\n",
    "        train_scores[i, j] = train_acc\n",
    "        test_scores[i, j] = test_acc\n",
    "\n",
    "# Plot as heatmaps\n",
    "fig, axes = plt.subplots(1, 2, figsize=(14, 4))\n",
    "\n",
    "im1 = axes[0].imshow(train_scores, cmap=\"Blues\", origin=\"lower\")\n",
    "axes[0].set_title(\"Train Accuracy\")\n",
    "axes[0].set_xticks(range(len(n_estimators_values)))\n",
    "axes[0].set_xticklabels(n_estimators_values)\n",
    "axes[0].set_yticks(range(len(depth_values)))\n",
    "axes[0].set_yticklabels(depth_values)\n",
    "axes[0].set_xlabel(\"Number of Estimators\")\n",
    "axes[0].set_ylabel(\"Tree Depth\")\n",
    "fig.colorbar(im1, ax=axes[0])\n",
    "\n",
    "im2 = axes[1].imshow(test_scores, cmap=\"Greens\", origin=\"lower\")\n",
    "axes[1].set_title(\"Test Accuracy\")\n",
    "axes[1].set_xticks(range(len(n_estimators_values)))\n",
    "axes[1].set_xticklabels(n_estimators_values)\n",
    "axes[1].set_yticks(range(len(depth_values)))\n",
    "axes[1].set_yticklabels(depth_values)\n",
    "axes[1].set_xlabel(\"Number of Estimators\")\n",
    "axes[1].set_ylabel(\"Tree Depth\")\n",
    "fig.colorbar(im2, ax=axes[1])\n",
    "\n",
    "plt.tight_layout()\n",
    "plt.show()\n"
   ]
  },
  {
   "cell_type": "markdown",
   "id": "4370d211",
   "metadata": {},
   "source": [
    "We see that ensembling consistently improves accuracy across a wide range of tree depths. Even shallow trees benefit from random forests, but **deeper trees** tend to perform better overall when combined with ensembling. \n",
    "\n",
    "With sufficient depth and ensemble size, we can achieve **near-state-of-the-art** results for letter recognition using random forest!"
   ]
  }
 ],
 "metadata": {
  "kernelspec": {
   "display_name": "applied_ml",
   "language": "python",
   "name": "python3"
  },
  "language_info": {
   "codemirror_mode": {
    "name": "ipython",
    "version": 3
   },
   "file_extension": ".py",
   "mimetype": "text/x-python",
   "name": "python",
   "nbconvert_exporter": "python",
   "pygments_lexer": "ipython3",
   "version": "3.13.2"
  }
 },
 "nbformat": 4,
 "nbformat_minor": 5
}
