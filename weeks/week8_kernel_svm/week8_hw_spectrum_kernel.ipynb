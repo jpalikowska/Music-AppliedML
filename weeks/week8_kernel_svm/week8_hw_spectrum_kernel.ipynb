{
 "cells": [
  {
   "cell_type": "markdown",
   "id": "916c1719",
   "metadata": {},
   "source": [
    "© [Mariia Seleznova](https://www.ai.math.uni-muenchen.de/members/postdocs/mariia-seleznova/index.html), 2025. [CC BY 4.0](https://creativecommons.org/licenses/by/4.0/)."
   ]
  },
  {
   "cell_type": "code",
   "execution_count": 1,
   "id": "47580131",
   "metadata": {},
   "outputs": [],
   "source": [
    "%load_ext autoreload\n",
    "%autoreload 2\n",
    "\n",
    "import numpy as np\n",
    "import matplotlib\n",
    "import matplotlib.pyplot as plt\n",
    "import sys\n",
    "import os\n",
    "import cvxopt\n",
    "import time \n",
    "\n",
    "# Add the repo root (two levels up from this notebook) to sys.path\n",
    "sys.path.insert(0, os.path.abspath(\"../../\"))"
   ]
  },
  {
   "cell_type": "markdown",
   "id": "1d2247d1",
   "metadata": {},
   "source": [
    "# 🧪 Homework 8 — SVM with Spectrum Kernel on Gene Sequence Data\n",
    "\n",
    "The goal of this exercise is to apply kernel SVM with the **spectrum kernel** to classify DNA sequences from the **UCI Splice-junction Gene Sequences** dataset."
   ]
  },
  {
   "cell_type": "markdown",
   "id": "5a4fa75f",
   "metadata": {},
   "source": [
    "## 🧬 Load and Preprocess Data\n",
    "\n",
    "DNA sequences are composed of four nucleotide bases:\n",
    "\n",
    "> **A**, **T**, **C**, **G**\n",
    "\n",
    "However, according to the [dataset description](https://archive.ics.uci.edu/dataset/69/molecular+biology+splice+junction+gene+sequences), some sequences include **ambiguous characters** such as:\n",
    "\n",
    "> **D**, **N**, **S**, **R**\n",
    "\n",
    "These represent uncertain letters in a given position.\n",
    "\n",
    "Since these ambiguous characters occur **infrequently**, we will simplify preprocessing by **removing all sequences** that contain any ambiguous characters."
   ]
  },
  {
   "cell_type": "code",
   "execution_count": 2,
   "id": "e7f9cda2",
   "metadata": {},
   "outputs": [],
   "source": [
    "file_name = 'splice.data'\n",
    "\n",
    "with open(file_name, 'r') as f:\n",
    "    lines = f.readlines()\n",
    "    labels = []\n",
    "    X = []\n",
    "\n",
    "    for line in lines:\n",
    "        parts = line.strip().split(',')\n",
    "\n",
    "        ambiguous_chars = {\"D\", \"N\", \"S\", \"R\"}\n",
    "        if any(c in parts[-1] for c in ambiguous_chars): \n",
    "            continue\n",
    "        X.append(parts[-1].strip())  \n",
    "        labels.append(parts[0])\n",
    "\n",
    "    label_map = {'EI': 1, 'IE': -1, 'N': -1}  # Binary: exon-intron vs others\n",
    "    Y = np.array([label_map[l] for l in labels])\n",
    "    X = np.array(X)"
   ]
  },
  {
   "cell_type": "markdown",
   "id": "67b5d2c6",
   "metadata": {},
   "source": [
    "## Spectrum Kernel \n",
    "\n",
    "The **spectrum kernel** of order $k$ compares sequences by counting how many substrings of length $k$ (called $k$-mers) they share.\n",
    "\n",
    ">**Definition**:\n",
    ">\n",
    ">Let $\\Phi_k(s)$ be the vector of $k$-mer counts for a sequence $s$. Then:\n",
    ">\n",
    ">$$\n",
    ">K_k(s_i, s_j) = \\langle \\Phi_k(s_i), \\Phi_k(s_j) \\rangle\n",
    ">= \\sum_{u \\in \\mathcal{A}^k} \\text{count}_u(s_i) \\cdot \\text{count}_u(s_j)\n",
    ">$$\n",
    ">\n",
    ">Where:\n",
    ">- $\\mathcal{A} = \\{A, C, G, T\\}$\n",
    ">- $\\text{count}_u(s)$ is the number of times the $k$-mer $u$ appears in sequence $s$\n",
    "\n",
    "We implement this kernel below."
   ]
  },
  {
   "cell_type": "code",
   "execution_count": 3,
   "id": "c42f652a",
   "metadata": {},
   "outputs": [],
   "source": [
    "import itertools \n",
    "\n",
    "class SpectrumKernel:\n",
    "    def __init__(self, k, X):\n",
    "        self.k = k\n",
    "        vocab = {c for seq in X for c in seq}\n",
    "        self.kmers = [''.join(kmer) for kmer in itertools.product(vocab, repeat=k)]\n",
    "\n",
    "    def feature_map(self, X):\n",
    "        Phi = np.zeros((len(X), len(self.kmers)))\n",
    "        for i, seq in enumerate(X):\n",
    "            for j, kmer in enumerate(self.kmers):\n",
    "                count = seq.count(kmer)\n",
    "                Phi[i, j] = count\n",
    "\n",
    "        return Phi\n",
    "\n",
    "\n",
    "    def __call__(self, X1, X2):\n",
    "        Phi1 = self.feature_map(X1)\n",
    "        Phi2 = self.feature_map(X2)\n",
    "        return Phi1 @ Phi2.T\n"
   ]
  },
  {
   "cell_type": "markdown",
   "id": "a7844dd1",
   "metadata": {},
   "source": [
    "Our implementation:\n",
    "- generates the vocabulary from a dataset `X` on initialization of the kernel class,\n",
    "- uses `itertools.product` function to generate all the possible combinations of $k$ symbols from the vocabulary,\n",
    "- uses in-built `str.count` function to count the number of times a $k$-mer occurs in a DNA string. "
   ]
  },
  {
   "cell_type": "markdown",
   "id": "4d03fdf6",
   "metadata": {},
   "source": [
    "## Train and Evaluate Kernel SVM"
   ]
  },
  {
   "cell_type": "code",
   "execution_count": 4,
   "id": "0b9be60e",
   "metadata": {},
   "outputs": [],
   "source": [
    "from courselib.utils.splits import train_test_split_np\n",
    "from courselib.models.svm import BinaryKernelSVM\n",
    "\n",
    "training_data_fraction = .8\n",
    "\n",
    "X_train, Y_train, X_test, Y_test = train_test_split_np(X, Y)"
   ]
  },
  {
   "cell_type": "code",
   "execution_count": 5,
   "id": "60c3109b",
   "metadata": {},
   "outputs": [
    {
     "name": "stdout",
     "output_type": "stream",
     "text": [
      "k=1\n",
      "Test accuracy: 77.4448, Train accuracy: 75.6395\n",
      "⏱️ Train time: 3.6511 seconds\n",
      "k=2\n",
      "Test accuracy: 77.4448, Train accuracy: 75.6395\n",
      "⏱️ Train time: 5.5875 seconds\n",
      "k=3\n",
      "Test accuracy: 82.6498, Train accuracy: 81.3459\n",
      "⏱️ Train time: 6.1232 seconds\n",
      "k=4\n",
      "Test accuracy: 86.5931, Train accuracy: 89.5710\n",
      "⏱️ Train time: 6.2914 seconds\n",
      "k=5\n",
      "Test accuracy: 85.8044, Train accuracy: 99.6458\n",
      "⏱️ Train time: 5.7808 seconds\n",
      "k=6\n",
      "Test accuracy: 89.2744, Train accuracy: 100.0000\n",
      "⏱️ Train time: 9.1530 seconds\n",
      "k=7\n",
      "Test accuracy: 89.4322, Train accuracy: 100.0000\n",
      "⏱️ Train time: 25.4522 seconds\n",
      "k=8\n",
      "Test accuracy: 86.9085, Train accuracy: 100.0000\n",
      "⏱️ Train time: 97.3295 seconds\n"
     ]
    }
   ],
   "source": [
    "from courselib.utils.metrics import binary_accuracy\n",
    "\n",
    "k_vals = list(range(1, 9))\n",
    "k_test_acc = []\n",
    "k_train_acc = []\n",
    "k_train_time = []\n",
    "\n",
    "for k in k_vals:\n",
    "    print(f'k={k}')\n",
    "    start = time.time()\n",
    "    svm = BinaryKernelSVM(kernel='custom', \n",
    "                          kernel_function=SpectrumKernel(k=k, X=X))\n",
    "    svm.fit(X_train, Y_train)\n",
    "    end = time.time()\n",
    "    \n",
    "    test_acc = binary_accuracy(svm(X_test), Y_test)\n",
    "    k_test_acc.append(test_acc)\n",
    "\n",
    "    train_acc = binary_accuracy(svm(X_train), Y_train)\n",
    "    k_train_acc.append(train_acc)\n",
    "    print(f'Test accuracy: {test_acc:.4f}, Train accuracy: {train_acc:.4f}')\n",
    "\n",
    "    train_time = end - start\n",
    "    k_train_time.append(train_time)\n",
    "    print(f\"⏱️ Train time: {train_time:.4f} seconds\")"
   ]
  },
  {
   "cell_type": "code",
   "execution_count": 8,
   "id": "1287adac",
   "metadata": {},
   "outputs": [
    {
     "data": {
      "image/png": "[encoded data removed]",
      "text/plain": [
       "<Figure size 1200x400 with 2 Axes>"
      ]
     },
     "metadata": {},
     "output_type": "display_data"
    }
   ],
   "source": [
    "import matplotlib.pyplot as plt\n",
    "\n",
    "plt.figure(figsize=(12, 4))\n",
    "plt.subplot(1, 2, 1)\n",
    "plt.plot(k_vals[:len(k_test_acc)], k_train_acc, label='Train', marker='o')\n",
    "plt.plot(k_vals[:len(k_test_acc)], k_test_acc, label='Test', marker='o')\n",
    "plt.xlabel(\"k-mer length (k)\")\n",
    "plt.ylabel(\"Accuracy\")\n",
    "plt.title(\"Accuracy vs k\")\n",
    "plt.legend()\n",
    "\n",
    "plt.subplot(1, 2, 2)\n",
    "plt.plot(k_vals[:len(k_train_time)], k_train_time, marker='o', color='green')\n",
    "plt.xlabel(\"k-mer length (k)\")\n",
    "plt.ylabel(\"Training time (s)\")\n",
    "plt.title(\"Training Time vs k\")\n",
    "\n",
    "plt.tight_layout()\n",
    "plt.show()\n"
   ]
  }
 ],
 "metadata": {
  "kernelspec": {
   "display_name": "applied_ml",
   "language": "python",
   "name": "python3"
  },
  "language_info": {
   "codemirror_mode": {
    "name": "ipython",
    "version": 3
   },
   "file_extension": ".py",
   "mimetype": "text/x-python",
   "name": "python",
   "nbconvert_exporter": "python",
   "pygments_lexer": "ipython3",
   "version": "3.13.2"
  }
 },
 "nbformat": 4,
 "nbformat_minor": 5
}
