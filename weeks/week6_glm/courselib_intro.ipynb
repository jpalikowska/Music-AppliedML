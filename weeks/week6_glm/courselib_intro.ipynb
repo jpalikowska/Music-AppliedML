{
 "cells": [
  {
   "cell_type": "markdown",
   "id": "c377bc27",
   "metadata": {},
   "source": [
    "© [Mariia Seleznova](https://www.ai.math.uni-muenchen.de/members/postdocs/mariia-seleznova/index.html), 2025. [CC BY 4.0](https://creativecommons.org/licenses/by/4.0/)."
   ]
  },
  {
   "cell_type": "markdown",
   "id": "b646f479",
   "metadata": {},
   "source": [
    "# 📦 Introducing `courselib`: A Mini-Package for Reusable Code\n",
    "\n",
    "As our course progresses, you've probably noticed that certain pieces of code — like data loading, model training, evaluation metrics, and optimizers — are used repeatedly across weeks.\n",
    "\n",
    "To keep things clean, modular, and reusable, we've now organized this shared functionality into a mini Python package called `courselib`. From this week forward, you’ll mport models, metrics, and utilities from `courselib` and be encouraged to contribute and extend the package as needed.\n",
    "\n",
    "### 🔍 What's in `courselib`?\n",
    "\n",
    "- `models/` — Linear regression, linear binary classification, ridge and lasso classes, etc.\n",
    "- `utils/` — Helpers for data loading, train-test splits, normalization, evaluation metrics, and more.\n",
    "- `optimizers` — Gradient descent and other optimization strategies.\n",
    "\n",
    "### 🛠️ Setup: Add `courselib` to Python Path & Enable Auto-Reloading\n",
    "\n",
    "Before importing anything from our `courselib` mini-package, we need to make sure Python knows where to find it. We'll do two things:\n",
    "\n",
    "1. **Add the repository root to `sys.path`** so we can import `courselib` from the notebook.\n",
    "2. **Enable `%autoreload`**, so that any changes to modules (like `courselib.models`) are automatically reflected without restarting the kernel."
   ]
  },
  {
   "cell_type": "code",
   "execution_count": 3,
   "id": "d2e7a181",
   "metadata": {},
   "outputs": [
    {
     "name": "stdout",
     "output_type": "stream",
     "text": [
      "The autoreload extension is already loaded. To reload it, use:\n",
      "  %reload_ext autoreload\n",
      "Repo root already in sys.path.\n"
     ]
    }
   ],
   "source": [
    "# Enable autoreloading of imported modules\n",
    "%load_ext autoreload\n",
    "%autoreload 2\n",
    "\n",
    "import sys\n",
    "import os\n",
    "\n",
    "# Add the repo root (two levels up from this notebook) to sys.path\n",
    "repo_root = os.path.abspath(os.path.join(os.getcwd(), \"..\", \"..\"))\n",
    "if repo_root not in sys.path:\n",
    "    sys.path.insert(0, repo_root)\n",
    "    print(f\"{repo_root} added to sys.path.\")\n",
    "else:\n",
    "    print(\"Repo root already in sys.path.\")\n"
   ]
  },
  {
   "cell_type": "markdown",
   "id": "ece9665b",
   "metadata": {},
   "source": [
    "## 📥 Example: Import and Use a Model from `courselib`"
   ]
  },
  {
   "cell_type": "code",
   "execution_count": 2,
   "id": "1eaf5e86",
   "metadata": {},
   "outputs": [
    {
     "name": "stdout",
     "output_type": "stream",
     "text": [
      "Final Accuracy: 99.0 %\n"
     ]
    }
   ],
   "source": [
    "# Import a model and optimizer from our mini-package\n",
    "from courselib.models.linear_models import LinearRegression\n",
    "from courselib.optimizers import GDOptimizer\n",
    "\n",
    "# Import a metric from our utils\n",
    "from courselib.utils.metrics import binary_accuracy, mean_squared_error\n",
    "\n",
    "# Create dummy data \n",
    "import numpy as np\n",
    "X = np.random.randn(100, 3)\n",
    "y = np.where(X[:, 0] + X[:, 1] > 0, 1, -1)  # simple binary target\n",
    "\n",
    "# Initialize model\n",
    "optimizer = GDOptimizer(learning_rate=0.1)\n",
    "model = LinearRegression(w=np.zeros(X.shape[1]), b=0.0, optimizer=optimizer)\n",
    "\n",
    "# Train model\n",
    "metrics = model.fit(X, y, num_epochs=10, batch_size=20, compute_metrics=True,\n",
    "                    metrics_dict={\"Accuracy\": binary_accuracy, \"MSE\": mean_squared_error})\n",
    "\n",
    "# Predict\n",
    "y_pred = model(X)\n",
    "print(\"Final Accuracy:\", binary_accuracy(y_pred, y), \"%\")\n"
   ]
  }
 ],
 "metadata": {
  "kernelspec": {
   "display_name": "applied_ml",
   "language": "python",
   "name": "python3"
  },
  "language_info": {
   "codemirror_mode": {
    "name": "ipython",
    "version": 3
   },
   "file_extension": ".py",
   "mimetype": "text/x-python",
   "name": "python",
   "nbconvert_exporter": "python",
   "pygments_lexer": "ipython3",
   "version": "3.13.2"
  }
 },
 "nbformat": 4,
 "nbformat_minor": 5
}
